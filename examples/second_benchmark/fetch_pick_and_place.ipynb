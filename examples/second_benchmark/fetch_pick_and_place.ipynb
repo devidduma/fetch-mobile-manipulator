{
 "cells": [
  {
   "cell_type": "code",
   "execution_count": null,
   "metadata": {
    "collapsed": true
   },
   "outputs": [],
   "source": [
    "import torch\n",
    "torch.cuda.is_available()"
   ]
  },
  {
   "cell_type": "code",
   "execution_count": null,
   "outputs": [],
   "source": [
    "!pip install -r ../requirements.txt --quiet"
   ],
   "metadata": {
    "collapsed": false
   }
  },
  {
   "cell_type": "code",
   "execution_count": null,
   "outputs": [],
   "source": [
    "!pip install envpool --quiet"
   ],
   "metadata": {
    "collapsed": false
   }
  },
  {
   "cell_type": "code",
   "execution_count": null,
   "outputs": [],
   "source": [
    "!python ../fetch_her_ddpg.py --task FetchPickAndPlace-v2 --hidden-sizes 256 256 256 --actor-lr 1e-5 --critic-lr 3e-5 --gamma 0.98 --epoch 600 --step-per-epoch 5000 --update-per-step 10 --algo-label \"1e-5 3e-5 ups10\""
   ],
   "metadata": {
    "collapsed": false
   }
  },
  {
   "cell_type": "code",
   "execution_count": null,
   "outputs": [],
   "source": [
    "!python ../fetch_her_td3.py --task FetchPickAndPlace-v2 --hidden-sizes 256 256 256 --actor-lr 1e-5 --critic-lr 3e-5 --gamma 0.98 --epoch 600 --step-per-epoch 5000 --update-per-step 10 --algo-label \"1e-5 3e-5 ups10\""
   ],
   "metadata": {
    "collapsed": false
   }
  },
  {
   "cell_type": "code",
   "execution_count": null,
   "outputs": [],
   "source": [
    "!python ../fetch_her_sac.py --task FetchPickAndPlace-v2 --hidden-sizes 256 256 256 --actor-lr 1e-5 --critic-lr 3e-5 --gamma 0.98 --epoch 600 --step-per-epoch 5000 --update-per-step 10 --algo-label \"1e-5 3e-5 ups10\""
   ],
   "metadata": {
    "collapsed": false
   }
  },
  {
   "cell_type": "code",
   "execution_count": null,
   "outputs": [],
   "source": [
    "!python ../fetch_her_redq.py --task FetchPickAndPlace-v2 --hidden-sizes 256 256 256 --actor-lr 1e-5 --critic-lr 3e-5 --gamma 0.98 --epoch 600 --step-per-epoch 5000 --update-per-step 10 --algo-label \"1e-5 3e-5 ups10\""
   ],
   "metadata": {
    "collapsed": false
   }
  },
  {
   "cell_type": "code",
   "execution_count": null,
   "outputs": [],
   "source": [
    "!python ../fetch_her_ddpg.py --task FetchPickAndPlaceDense-v2 --hidden-sizes 256 256 256 --actor-lr 1e-5 --critic-lr 3e-5 --gamma 0.98 --epoch 600 --step-per-epoch 5000 --update-per-step 10 --algo-label \"1e-5 3e-5 ups10\""
   ],
   "metadata": {
    "collapsed": false
   }
  },
  {
   "cell_type": "code",
   "execution_count": null,
   "outputs": [],
   "source": [
    "!python ../fetch_her_td3.py --task FetchPickAndPlaceDense-v2 --hidden-sizes 256 256 256 --actor-lr 1e-5 --critic-lr 3e-5 --gamma 0.98 --epoch 600 --step-per-epoch 5000 --update-per-step 10 --algo-label \"1e-5 3e-5 ups10\""
   ],
   "metadata": {
    "collapsed": false
   }
  },
  {
   "cell_type": "code",
   "execution_count": null,
   "outputs": [],
   "source": [
    "!python ../fetch_her_sac.py --task FetchPickAndPlaceDense-v2 --hidden-sizes 256 256 256 --actor-lr 1e-5 --critic-lr 3e-5 --gamma 0.98 --epoch 600 --step-per-epoch 5000 --update-per-step 10 --algo-label \"1e-5 3e-5 ups10\""
   ],
   "metadata": {
    "collapsed": false
   }
  },
  {
   "cell_type": "code",
   "execution_count": null,
   "outputs": [],
   "source": [
    "!python ../fetch_her_redq.py --task FetchPickAndPlaceDense-v2 --hidden-sizes 256 256 256 --actor-lr 1e-5 --critic-lr 3e-5 --gamma 0.98 --epoch 600 --step-per-epoch 5000 --update-per-step 10 --algo-label \"1e-5 3e-5 ups10\""
   ],
   "metadata": {
    "collapsed": false
   }
  }
 ],
 "metadata": {
  "kernelspec": {
   "display_name": "Python 3",
   "language": "python",
   "name": "python3"
  },
  "language_info": {
   "codemirror_mode": {
    "name": "ipython",
    "version": 2
   },
   "file_extension": ".py",
   "mimetype": "text/x-python",
   "name": "python",
   "nbconvert_exporter": "python",
   "pygments_lexer": "ipython2",
   "version": "2.7.6"
  }
 },
 "nbformat": 4,
 "nbformat_minor": 0
}
