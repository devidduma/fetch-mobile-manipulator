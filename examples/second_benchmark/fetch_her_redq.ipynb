{
 "cells": [
  {
   "cell_type": "code",
   "execution_count": null,
   "metadata": {
    "collapsed": true
   },
   "outputs": [],
   "source": [
    "import torch\n",
    "torch.cuda.is_available()"
   ]
  },
  {
   "cell_type": "code",
   "execution_count": null,
   "outputs": [],
   "source": [
    "!pip install -r ../requirements.txt --quiet"
   ],
   "metadata": {
    "collapsed": false
   }
  },
  {
   "cell_type": "code",
   "execution_count": null,
   "outputs": [],
   "source": [
    "!pip install envpool --quiet"
   ],
   "metadata": {
    "collapsed": false
   }
  },
  {
   "cell_type": "code",
   "execution_count": null,
   "outputs": [],
   "source": [
    "!python ../fetch_her_redq.py --task FetchReach-v3 --hidden-sizes 256 256 --actor-lr 1e-3 --critic-lr 3e-3 --gamma 0.98 --epoch 10 --step-per-epoch 5000 --update-per-step 1 --algo-label \"1e-3 3e-3 ups1\""
   ],
   "metadata": {
    "collapsed": false
   }
  },
  {
   "cell_type": "code",
   "execution_count": null,
   "outputs": [],
   "source": [
    "!python ../fetch_her_redq.py --task FetchPush-v2 --hidden-sizes 256 256 256 --actor-lr 1e-4 --critic-lr 3e-4 --gamma 0.98 --epoch 300 --step-per-epoch 5000 --update-per-step 5 --algo-label \"1e-4 3e-4 ups5\""
   ],
   "metadata": {
    "collapsed": false
   }
  },
  {
   "cell_type": "code",
   "execution_count": null,
   "outputs": [],
   "source": [
    "!python ../fetch_her_redq.py --task FetchPickAndPlace-v2 --hidden-sizes 256 256 256 --actor-lr 1e-5 --critic-lr 3e-5 --gamma 0.98 --epoch 600 --step-per-epoch 5000 --update-per-step 10 --algo-label \"1e-5 3e-5 ups10\""
   ],
   "metadata": {
    "collapsed": false
   }
  },
  {
   "cell_type": "code",
   "execution_count": null,
   "outputs": [],
   "source": [
    "!python ../fetch_her_redq.py --task FetchSlide-v2 --hidden-sizes 256 256 256 --actor-lr 1e-6 --critic-lr 3e-6 --gamma 0.98 --epoch 900 --step-per-epoch 5000 --update-per-step 20 --algo-label \"1e-6 3e-6 ups20\""
   ],
   "metadata": {
    "collapsed": false
   }
  },
  {
   "cell_type": "code",
   "execution_count": null,
   "outputs": [],
   "source": [
    "!python ../fetch_her_redq.py --task FetchReachDense-v3 --hidden-sizes 256 256 --actor-lr 1e-3 --critic-lr 3e-3 --gamma 0.98 --epoch 10 --step-per-epoch 5000 --update-per-step 1 --algo-label \"1e-3 3e-3 ups1\""
   ],
   "metadata": {
    "collapsed": false
   }
  },
  {
   "cell_type": "code",
   "execution_count": null,
   "outputs": [],
   "source": [
    "!python ../fetch_her_redq.py --task FetchPushDense-v2 --hidden-sizes 256 256 256 --actor-lr 1e-4 --critic-lr 3e-4 --gamma 0.98 --epoch 300 --step-per-epoch 5000 --update-per-step 5 --algo-label \"1e-4 3e-4 ups5\""
   ],
   "metadata": {
    "collapsed": false
   }
  },
  {
   "cell_type": "code",
   "execution_count": null,
   "outputs": [],
   "source": [
    "!python ../fetch_her_redq.py --task FetchPickAndPlaceDense-v2 --hidden-sizes 256 256 256 --actor-lr 1e-5 --critic-lr 3e-5 --gamma 0.98 --epoch 600 --step-per-epoch 5000 --update-per-step 10 --algo-label \"1e-5 3e-5 ups10\""
   ],
   "metadata": {
    "collapsed": false
   }
  },
  {
   "cell_type": "code",
   "execution_count": null,
   "outputs": [],
   "source": [
    "!python ../fetch_her_redq.py --task FetchSlideDense-v2 --hidden-sizes 256 256 256 --actor-lr 1e-6 --critic-lr 3e-6 --gamma 0.98 --epoch 900 --step-per-epoch 5000 --update-per-step 20 --algo-label \"1e-6 3e-6 ups20\""
   ],
   "metadata": {
    "collapsed": false
   }
  }
 ],
 "metadata": {
  "kernelspec": {
   "display_name": "Python 3",
   "language": "python",
   "name": "python3"
  },
  "language_info": {
   "codemirror_mode": {
    "name": "ipython",
    "version": 2
   },
   "file_extension": ".py",
   "mimetype": "text/x-python",
   "name": "python",
   "nbconvert_exporter": "python",
   "pygments_lexer": "ipython2",
   "version": "2.7.6"
  }
 },
 "nbformat": 4,
 "nbformat_minor": 0
}
