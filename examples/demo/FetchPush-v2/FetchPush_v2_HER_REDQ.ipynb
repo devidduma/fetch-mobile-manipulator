{
 "cells": [
  {
   "cell_type": "code",
   "execution_count": null,
   "metadata": {
    "colab": {
     "base_uri": "https://localhost:8080/"
    },
    "id": "IO0ADjYzh7T1",
    "outputId": "16cac41f-2e6a-4ac8-f592-a1e081ae9a38"
   },
   "outputs": [
    {
     "name": "stdout",
     "output_type": "stream",
     "text": [
      "\u001B[31mERROR: Could not open requirements file: [Errno 2] No such file or directory: 'requirements.txt'\u001B[0m\u001B[31m\n",
      "\u001B[0m"
     ]
    }
   ],
   "source": [
    "!pip install -r requirements.txt --quiet"
   ]
  },
  {
   "cell_type": "code",
   "execution_count": null,
   "metadata": {
    "colab": {
     "base_uri": "https://localhost:8080/"
    },
    "id": "wfuzeq7BitX9",
    "outputId": "5a8e85a4-530a-4ea7-cba4-eba062ca75c3"
   },
   "outputs": [
    {
     "name": "stdout",
     "output_type": "stream",
     "text": [
      "  Preparing metadata (setup.py) ... \u001B[?25l\u001B[?25hdone\n"
     ]
    }
   ],
   "source": [
    "!pip install git+https://github.com/Markus28/tianshou.git@gymnasium_integration#egg=tianshou --quiet"
   ]
  },
  {
   "cell_type": "code",
   "execution_count": null,
   "metadata": {
    "colab": {
     "base_uri": "https://localhost:8080/"
    },
    "id": "UyOq9We-I6ay",
    "outputId": "7f71f8f5-482c-455a-b777-9ffda08430b8"
   },
   "outputs": [
    {
     "name": "stdout",
     "output_type": "stream",
     "text": [
      "Reading package lists...\n",
      "Building dependency tree...\n",
      "Reading state information...\n",
      "libglew-dev is already the newest version (2.1.0-4).\n",
      "libgl1-mesa-dev is already the newest version (21.2.6-0ubuntu0.1~20.04.2).\n",
      "libgl1-mesa-glx is already the newest version (21.2.6-0ubuntu0.1~20.04.2).\n",
      "libosmesa6-dev is already the newest version (21.2.6-0ubuntu0.1~20.04.2).\n",
      "software-properties-common is already the newest version (0.99.9.10).\n",
      "0 upgraded, 0 newly installed, 0 to remove and 19 not upgraded.\n"
     ]
    }
   ],
   "source": [
    "!apt-get -q install -y \\\n",
    "    libgl1-mesa-dev \\\n",
    "    libgl1-mesa-glx \\\n",
    "    libglew-dev \\\n",
    "    libosmesa6-dev \\\n",
    "    software-properties-common\n",
    "\n",
    "!apt-get -q install -y patchelf"
   ]
  },
  {
   "cell_type": "code",
   "execution_count": null,
   "metadata": {
    "id": "UbOlVWv0157i"
   },
   "outputs": [],
   "source": [
    "!pip install envpool wandb pettingzoo gymnasium-robotics --quiet"
   ]
  },
  {
   "cell_type": "code",
   "execution_count": null,
   "metadata": {
    "id": "fCkkosakI_bC"
   },
   "outputs": [],
   "source": [
    "!pip install free-mujoco-py --quiet"
   ]
  },
  {
   "cell_type": "code",
   "execution_count": null,
   "metadata": {
    "colab": {
     "base_uri": "https://localhost:8080/"
    },
    "id": "7TZHDrP1JTUj",
    "outputId": "807935bf-05ec-480b-af4b-6585fe56110b"
   },
   "outputs": [
    {
     "name": "stdout",
     "output_type": "stream",
     "text": [
      "running build_ext\n",
      "building 'mujoco_py.cymj' extension\n",
      "x86_64-linux-gnu-gcc -pthread -Wno-unused-result -Wsign-compare -DNDEBUG -g -fwrapv -O2 -Wall -g -fstack-protector-strong -Wformat -Werror=format-security -g -fwrapv -O2 -g -fstack-protector-strong -Wformat -Werror=format-security -Wdate-time -D_FORTIFY_SOURCE=2 -fPIC -I/usr/local/lib/python3.8/dist-packages/mujoco_py -I/usr/local/lib/python3.8/dist-packages/mujoco_py/binaries/linux/mujoco210/include -I/usr/local/lib/python3.8/dist-packages/numpy/core/include -I/usr/include/python3.8 -c /usr/local/lib/python3.8/dist-packages/mujoco_py/cymj.c -o /usr/local/lib/python3.8/dist-packages/mujoco_py/generated/_pyxbld_2.0.2.13_38_linuxcpuextensionbuilder/temp.linux-x86_64-3.8/usr/local/lib/python3.8/dist-packages/mujoco_py/cymj.o -fopenmp -w\n",
      "x86_64-linux-gnu-gcc -pthread -Wno-unused-result -Wsign-compare -DNDEBUG -g -fwrapv -O2 -Wall -g -fstack-protector-strong -Wformat -Werror=format-security -g -fwrapv -O2 -g -fstack-protector-strong -Wformat -Werror=format-security -Wdate-time -D_FORTIFY_SOURCE=2 -fPIC -I/usr/local/lib/python3.8/dist-packages/mujoco_py -I/usr/local/lib/python3.8/dist-packages/mujoco_py/binaries/linux/mujoco210/include -I/usr/local/lib/python3.8/dist-packages/numpy/core/include -I/usr/include/python3.8 -c /usr/local/lib/python3.8/dist-packages/mujoco_py/gl/osmesashim.c -o /usr/local/lib/python3.8/dist-packages/mujoco_py/generated/_pyxbld_2.0.2.13_38_linuxcpuextensionbuilder/temp.linux-x86_64-3.8/usr/local/lib/python3.8/dist-packages/mujoco_py/gl/osmesashim.o -fopenmp -w\n",
      "creating /usr/local/lib/python3.8/dist-packages/mujoco_py/generated/_pyxbld_2.0.2.13_38_linuxcpuextensionbuilder/lib.linux-x86_64-3.8\n",
      "creating /usr/local/lib/python3.8/dist-packages/mujoco_py/generated/_pyxbld_2.0.2.13_38_linuxcpuextensionbuilder/lib.linux-x86_64-3.8/mujoco_py\n",
      "x86_64-linux-gnu-gcc -pthread -shared -Wl,-O1 -Wl,-Bsymbolic-functions -Wl,-Bsymbolic-functions -Wl,-z,relro -g -fwrapv -O2 -Wl,-Bsymbolic-functions -Wl,-z,relro -g -fwrapv -O2 -g -fstack-protector-strong -Wformat -Werror=format-security -Wdate-time -D_FORTIFY_SOURCE=2 /usr/local/lib/python3.8/dist-packages/mujoco_py/generated/_pyxbld_2.0.2.13_38_linuxcpuextensionbuilder/temp.linux-x86_64-3.8/usr/local/lib/python3.8/dist-packages/mujoco_py/cymj.o /usr/local/lib/python3.8/dist-packages/mujoco_py/generated/_pyxbld_2.0.2.13_38_linuxcpuextensionbuilder/temp.linux-x86_64-3.8/usr/local/lib/python3.8/dist-packages/mujoco_py/gl/osmesashim.o -L/usr/local/lib/python3.8/dist-packages/mujoco_py/binaries/linux/mujoco210/bin -Wl,--enable-new-dtags,-R/usr/local/lib/python3.8/dist-packages/mujoco_py/binaries/linux/mujoco210/bin -lmujoco210 -lglewosmesa -lOSMesa -lGL -o /usr/local/lib/python3.8/dist-packages/mujoco_py/generated/_pyxbld_2.0.2.13_38_linuxcpuextensionbuilder/lib.linux-x86_64-3.8/mujoco_py/cymj.cpython-38-x86_64-linux-gnu.so -fopenmp\n"
     ]
    }
   ],
   "source": [
    "import mujoco_py"
   ]
  },
  {
   "cell_type": "code",
   "execution_count": null,
   "metadata": {
    "colab": {
     "base_uri": "https://localhost:8080/"
    },
    "id": "Jtbz6g5yj3FL",
    "outputId": "553f672f-b76b-4a83-a519-649e0467a16d"
   },
   "outputs": [
    {
     "output_type": "stream",
     "name": "stdout",
     "text": [
      "2023-02-27 09:38:56.664276: W tensorflow/compiler/xla/stream_executor/platform/default/dso_loader.cc:64] Could not load dynamic library 'libnvinfer.so.7'; dlerror: libnvinfer.so.7: cannot open shared object file: No such file or directory; LD_LIBRARY_PATH: /usr/local/lib/python3.8/dist-packages/mujoco_py/binaries/linux/mujoco210/bin\n",
      "2023-02-27 09:38:56.664429: W tensorflow/compiler/xla/stream_executor/platform/default/dso_loader.cc:64] Could not load dynamic library 'libnvinfer_plugin.so.7'; dlerror: libnvinfer_plugin.so.7: cannot open shared object file: No such file or directory; LD_LIBRARY_PATH: /usr/local/lib/python3.8/dist-packages/mujoco_py/binaries/linux/mujoco210/bin\n",
      "2023-02-27 09:38:56.664450: W tensorflow/compiler/tf2tensorrt/utils/py_utils.cc:38] TF-TRT Warning: Cannot dlopen some TensorRT libraries. If you would like to use Nvidia GPU with TensorRT, please make sure the missing libraries mentioned above are installed properly.\n",
      "Observations shape: {'observation': (25,), 'achieved_goal': (3,), 'desired_goal': (3,)}\n",
      "Actions shape: (4,)\n",
      "Action range: -1.0 1.0\n",
      "Epoch #1: 5001it [31:57,  2.61it/s, env_step=5000, len=50, loss/actor=-6.464, loss/critics=0.994, n/ep=1, n/st=1, rew=-50.00]\n",
      "Epoch #1: test_reward: -50.000000 ± 0.000000, best_reward: -50.000000 ± 0.000000 in #0\n",
      "Epoch #2: 5001it [32:17,  2.58it/s, env_step=10000, len=50, loss/actor=-9.336, loss/critics=2.447, n/ep=1, n/st=1, rew=-50.00]\n",
      "Epoch #2: test_reward: -35.000000 ± 22.912878, best_reward: -35.000000 ± 22.912878 in #2\n",
      "Epoch #3: 5001it [32:14,  2.59it/s, env_step=15000, len=50, loss/actor=-11.031, loss/critics=3.706, n/ep=1, n/st=1, rew=-50.00]\n",
      "Epoch #3: test_reward: -50.000000 ± 0.000000, best_reward: -35.000000 ± 22.912878 in #2\n",
      "Epoch #4: 5001it [32:12,  2.59it/s, env_step=20000, len=50, loss/actor=-12.053, loss/critics=4.139, n/ep=1, n/st=1, rew=-50.00]\n",
      "Epoch #4: test_reward: -45.000000 ± 15.000000, best_reward: -35.000000 ± 22.912878 in #2\n",
      "Epoch #5: 5001it [32:05,  2.60it/s, env_step=25000, len=50, loss/actor=-12.993, loss/critics=5.373, n/ep=1, n/st=1, rew=-50.00]\n",
      "Epoch #5: test_reward: -40.000000 ± 20.000000, best_reward: -35.000000 ± 22.912878 in #2\n",
      "Epoch #6: 5001it [31:51,  2.62it/s, env_step=30000, len=50, loss/actor=-13.807, loss/critics=5.534, n/ep=1, n/st=1, rew=-50.00]\n",
      "Epoch #6: test_reward: -40.000000 ± 20.000000, best_reward: -35.000000 ± 22.912878 in #2\n",
      "Epoch #7: 5001it [32:06,  2.60it/s, env_step=35000, len=50, loss/actor=-14.503, loss/critics=5.881, n/ep=1, n/st=1, rew=-50.00]\n",
      "Epoch #7: test_reward: -40.000000 ± 20.000000, best_reward: -35.000000 ± 22.912878 in #2\n",
      "Epoch #8: 5001it [32:08,  2.59it/s, env_step=40000, len=50, loss/actor=-14.937, loss/critics=6.188, n/ep=1, n/st=1, rew=-50.00]\n",
      "Epoch #8: test_reward: -45.000000 ± 15.000000, best_reward: -35.000000 ± 22.912878 in #2\n",
      "Epoch #9: 5001it [32:08,  2.59it/s, env_step=45000, len=50, loss/actor=-15.263, loss/critics=6.305, n/ep=1, n/st=1, rew=-50.00]\n",
      "Epoch #9: test_reward: -50.000000 ± 0.000000, best_reward: -35.000000 ± 22.912878 in #2\n",
      "Epoch #10: 5001it [32:35,  2.56it/s, env_step=50000, len=50, loss/actor=-15.643, loss/critics=6.365, n/ep=1, n/st=1, rew=-50.00]\n",
      "Epoch #10: test_reward: -50.000000 ± 0.000000, best_reward: -35.000000 ± 22.912878 in #2\n",
      "Epoch #11: 5001it [32:58,  2.53it/s, env_step=55000, len=50, loss/actor=-15.838, loss/critics=6.713, n/ep=1, n/st=1, rew=-50.00]\n",
      "Epoch #11: test_reward: -45.000000 ± 15.000000, best_reward: -35.000000 ± 22.912878 in #2\n",
      "Epoch #12: 5001it [33:18,  2.50it/s, env_step=60000, len=50, loss/actor=-15.683, loss/critics=6.413, n/ep=1, n/st=1, rew=-50.00]\n",
      "Epoch #12: test_reward: -45.000000 ± 15.000000, best_reward: -35.000000 ± 22.912878 in #2\n",
      "Epoch #13: 5001it [33:30,  2.49it/s, env_step=65000, len=50, loss/actor=-15.386, loss/critics=6.472, n/ep=1, n/st=1, rew=-50.00]\n",
      "Epoch #13: test_reward: -45.000000 ± 15.000000, best_reward: -35.000000 ± 22.912878 in #2\n",
      "Epoch #14: 5001it [33:59,  2.45it/s, env_step=70000, len=50, loss/actor=-14.952, loss/critics=5.714, n/ep=1, n/st=1, rew=-50.00]\n",
      "Epoch #14: test_reward: -45.000000 ± 15.000000, best_reward: -35.000000 ± 22.912878 in #2\n",
      "Epoch #15: 5001it [33:50,  2.46it/s, env_step=75000, len=50, loss/actor=-14.488, loss/critics=5.408, n/ep=1, n/st=1, rew=0.00]\n",
      "Epoch #15: test_reward: -44.300000 ± 14.913417, best_reward: -35.000000 ± 22.912878 in #2\n",
      "Epoch #16: 5001it [33:56,  2.46it/s, env_step=80000, len=50, loss/actor=-14.104, loss/critics=4.819, n/ep=1, n/st=1, rew=-50.00]\n",
      "Epoch #16: test_reward: -50.000000 ± 0.000000, best_reward: -35.000000 ± 22.912878 in #2\n",
      "Epoch #17: 5001it [31:08,  2.68it/s, env_step=85000, len=50, loss/actor=-13.632, loss/critics=4.855, n/ep=1, n/st=1, rew=-50.00]\n",
      "Epoch #17: test_reward: -50.000000 ± 0.000000, best_reward: -35.000000 ± 22.912878 in #2\n",
      "Epoch #18: 5001it [31:07,  2.68it/s, env_step=90000, len=50, loss/actor=-13.273, loss/critics=4.501, n/ep=1, n/st=1, rew=-50.00]\n",
      "Epoch #18: test_reward: -50.000000 ± 0.000000, best_reward: -35.000000 ± 22.912878 in #2\n",
      "Epoch #19: 5001it [31:09,  2.68it/s, env_step=95000, len=50, loss/actor=-12.804, loss/critics=4.086, n/ep=1, n/st=1, rew=-50.00]\n",
      "Epoch #19: test_reward: -40.000000 ± 20.000000, best_reward: -35.000000 ± 22.912878 in #2\n",
      "Epoch #20: 5001it [31:13,  2.67it/s, env_step=100000, len=50, loss/actor=-12.547, loss/critics=3.834, n/ep=1, n/st=1, rew=-50.00]\n",
      "Epoch #20: test_reward: -49.700000 ± 0.900000, best_reward: -35.000000 ± 22.912878 in #2\n",
      "Epoch #21: 5001it [31:14,  2.67it/s, env_step=105000, len=50, loss/actor=-12.403, loss/critics=3.391, n/ep=1, n/st=1, rew=-50.00]\n",
      "Epoch #21: test_reward: -45.000000 ± 15.000000, best_reward: -35.000000 ± 22.912878 in #2\n",
      "Epoch #22: 5001it [31:16,  2.66it/s, env_step=110000, len=50, loss/actor=-12.278, loss/critics=3.218, n/ep=1, n/st=1, rew=-50.00]\n",
      "Epoch #22: test_reward: -50.000000 ± 0.000000, best_reward: -35.000000 ± 22.912878 in #2\n",
      "Epoch #23: 5001it [31:34,  2.64it/s, env_step=115000, len=50, loss/actor=-12.394, loss/critics=3.171, n/ep=1, n/st=1, rew=-50.00]\n",
      "Epoch #23: test_reward: -45.000000 ± 15.000000, best_reward: -35.000000 ± 22.912878 in #2\n",
      "Epoch #24: 5001it [31:38,  2.63it/s, env_step=120000, len=50, loss/actor=-12.584, loss/critics=2.998, n/ep=1, n/st=1, rew=-50.00]\n",
      "Epoch #24: test_reward: -40.000000 ± 20.000000, best_reward: -35.000000 ± 22.912878 in #2\n",
      "Epoch #25: 5001it [31:32,  2.64it/s, env_step=125000, len=50, loss/actor=-12.889, loss/critics=3.017, n/ep=1, n/st=1, rew=-50.00]\n",
      "Epoch #25: test_reward: -50.000000 ± 0.000000, best_reward: -35.000000 ± 22.912878 in #2\n",
      "Epoch #26: 5001it [31:20,  2.66it/s, env_step=130000, len=50, loss/actor=-12.971, loss/critics=2.891, n/ep=1, n/st=1, rew=-50.00]\n",
      "Epoch #26: test_reward: -50.000000 ± 0.000000, best_reward: -35.000000 ± 22.912878 in #2\n",
      "Epoch #27: 5001it [31:32,  2.64it/s, env_step=135000, len=50, loss/actor=-13.136, loss/critics=2.942, n/ep=1, n/st=1, rew=-50.00]\n",
      "Epoch #27: test_reward: -45.000000 ± 15.000000, best_reward: -35.000000 ± 22.912878 in #2\n",
      "Epoch #28: 5001it [31:24,  2.65it/s, env_step=140000, len=50, loss/actor=-13.184, loss/critics=2.825, n/ep=1, n/st=1, rew=-50.00]\n",
      "Epoch #28: test_reward: -50.000000 ± 0.000000, best_reward: -35.000000 ± 22.912878 in #2\n",
      "Epoch #29: 5001it [31:29,  2.65it/s, env_step=145000, len=50, loss/actor=-13.264, loss/critics=2.744, n/ep=1, n/st=1, rew=-50.00]\n",
      "Epoch #29: test_reward: -50.000000 ± 0.000000, best_reward: -35.000000 ± 22.912878 in #2\n",
      "Epoch #30: 5001it [31:24,  2.65it/s, env_step=150000, len=50, loss/actor=-13.313, loss/critics=2.595, n/ep=1, n/st=1, rew=-50.00]\n",
      "Epoch #30: test_reward: -40.000000 ± 20.000000, best_reward: -35.000000 ± 22.912878 in #2\n",
      "Epoch #31: 5001it [31:21,  2.66it/s, env_step=155000, len=50, loss/actor=-13.238, loss/critics=2.381, n/ep=1, n/st=1, rew=-50.00]\n",
      "Epoch #31: test_reward: -45.000000 ± 15.000000, best_reward: -35.000000 ± 22.912878 in #2\n",
      "Epoch #32: 5001it [31:12,  2.67it/s, env_step=160000, len=50, loss/actor=-13.302, loss/critics=2.384, n/ep=1, n/st=1, rew=-50.00]\n",
      "Epoch #32: test_reward: -40.000000 ± 20.000000, best_reward: -35.000000 ± 22.912878 in #2\n",
      "Epoch #33: 5001it [31:17,  2.66it/s, env_step=165000, len=50, loss/actor=-13.178, loss/critics=2.432, n/ep=1, n/st=1, rew=-50.00]\n",
      "Epoch #33: test_reward: -50.000000 ± 0.000000, best_reward: -35.000000 ± 22.912878 in #2\n",
      "Epoch #34: 5001it [31:17,  2.66it/s, env_step=170000, len=50, loss/actor=-13.146, loss/critics=2.302, n/ep=1, n/st=1, rew=-50.00]\n",
      "Epoch #34: test_reward: -45.000000 ± 15.000000, best_reward: -35.000000 ± 22.912878 in #2\n",
      "Epoch #35: 5001it [31:14,  2.67it/s, env_step=175000, len=50, loss/actor=-13.035, loss/critics=2.239, n/ep=1, n/st=1, rew=-50.00]\n",
      "Epoch #35: test_reward: -45.000000 ± 15.000000, best_reward: -35.000000 ± 22.912878 in #2\n",
      "Epoch #36: 5001it [31:15,  2.67it/s, env_step=180000, len=50, loss/actor=-13.008, loss/critics=2.350, n/ep=1, n/st=1, rew=-50.00]\n",
      "Epoch #36: test_reward: -50.000000 ± 0.000000, best_reward: -35.000000 ± 22.912878 in #2\n",
      "Epoch #37: 5001it [31:13,  2.67it/s, env_step=185000, len=50, loss/actor=-12.930, loss/critics=2.388, n/ep=1, n/st=1, rew=-50.00]\n",
      "Epoch #37: test_reward: -50.000000 ± 0.000000, best_reward: -35.000000 ± 22.912878 in #2\n",
      "Epoch #38: 5001it [31:18,  2.66it/s, env_step=190000, len=50, loss/actor=-12.943, loss/critics=2.355, n/ep=1, n/st=1, rew=-50.00]\n",
      "Epoch #38: test_reward: -40.200000 ± 19.605101, best_reward: -35.000000 ± 22.912878 in #2\n",
      "Epoch #39: 5001it [31:16,  2.67it/s, env_step=195000, len=50, loss/actor=-12.893, loss/critics=2.556, n/ep=1, n/st=1, rew=-50.00]\n",
      "Epoch #39: test_reward: -50.000000 ± 0.000000, best_reward: -35.000000 ± 22.912878 in #2\n",
      "Epoch #40: 5001it [31:22,  2.66it/s, env_step=200000, len=50, loss/actor=-12.698, loss/critics=2.227, n/ep=1, n/st=1, rew=-50.00]\n",
      "Epoch #40: test_reward: -47.900000 ± 6.300000, best_reward: -35.000000 ± 22.912878 in #2\n",
      "Epoch #41: 5001it [31:09,  2.68it/s, env_step=205000, len=50, loss/actor=-12.601, loss/critics=2.192, n/ep=1, n/st=1, rew=-50.00]\n",
      "Epoch #41: test_reward: -45.000000 ± 15.000000, best_reward: -35.000000 ± 22.912878 in #2\n",
      "Epoch #42: 5001it [31:10,  2.67it/s, env_step=210000, len=50, loss/actor=-12.516, loss/critics=2.309, n/ep=1, n/st=1, rew=-50.00]\n",
      "Epoch #42: test_reward: -45.000000 ± 15.000000, best_reward: -35.000000 ± 22.912878 in #2\n",
      "Epoch #43: 5001it [31:19,  2.66it/s, env_step=215000, len=50, loss/actor=-12.348, loss/critics=2.108, n/ep=1, n/st=1, rew=-50.00]\n",
      "Epoch #43: test_reward: -45.000000 ± 15.000000, best_reward: -35.000000 ± 22.912878 in #2\n",
      "Epoch #44: 5001it [31:21,  2.66it/s, env_step=220000, len=50, loss/actor=-12.145, loss/critics=2.074, n/ep=1, n/st=1, rew=-50.00]\n",
      "Epoch #44: test_reward: -50.000000 ± 0.000000, best_reward: -35.000000 ± 22.912878 in #2\n",
      "Epoch #45: 5001it [31:28,  2.65it/s, env_step=225000, len=50, loss/actor=-11.987, loss/critics=2.266, n/ep=1, n/st=1, rew=-50.00]\n",
      "Epoch #45: test_reward: -45.000000 ± 15.000000, best_reward: -35.000000 ± 22.912878 in #2\n",
      "Epoch #46:   2% 77/5000 [00:28<38:37,  2.12it/s, env_step=225076, len=50, loss/actor=-12.015, loss/critics=2.168, n/ep=0, n/st=1, rew=-50.00]"
     ]
    }
   ],
   "source": [
    "!python fetch_her_redq.py --task FetchPush-v2 \\\n",
    "      --hidden-sizes 256 256 256 --actor-lr 1e-4 --critic-lr 1e-4 \\\n",
    "      --gamma 0.98 --epoch 100 --her-horizon 50"
   ]
  }
 ],
 "metadata": {
  "colab": {
   "provenance": []
  },
  "kernelspec": {
   "display_name": "Python 3",
   "name": "python3"
  },
  "language_info": {
   "name": "python"
  }
 },
 "nbformat": 4,
 "nbformat_minor": 0
}
