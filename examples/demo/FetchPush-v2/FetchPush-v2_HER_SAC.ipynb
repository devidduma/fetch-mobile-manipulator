{
 "cells": [
  {
   "cell_type": "code",
   "execution_count": 1,
   "metadata": {
    "colab": {
     "base_uri": "https://localhost:8080/"
    },
    "id": "IO0ADjYzh7T1",
    "outputId": "f27e78fd-8d2b-4e44-f5f0-3b9a5dcf6511"
   },
   "outputs": [
    {
     "output_type": "stream",
     "name": "stdout",
     "text": [
      "\u001B[31mERROR: Could not open requirements file: [Errno 2] No such file or directory: 'requirements.txt'\u001B[0m\u001B[31m\n",
      "\u001B[0m"
     ]
    }
   ],
   "source": [
    "!pip install -r requirements.txt --quiet"
   ]
  },
  {
   "cell_type": "code",
   "execution_count": 2,
   "metadata": {
    "colab": {
     "base_uri": "https://localhost:8080/"
    },
    "id": "wfuzeq7BitX9",
    "outputId": "ecc3ed71-c63a-4719-bd84-8dce734083b9"
   },
   "outputs": [
    {
     "output_type": "stream",
     "name": "stdout",
     "text": [
      "  Preparing metadata (setup.py) ... \u001B[?25l\u001B[?25hdone\n",
      "\u001B[2K     \u001B[90m━━━━━━━━━━━━━━━━━━━━━━━━━━━━━━━━━━━━━━\u001B[0m \u001B[32m883.7/883.7 KB\u001B[0m \u001B[31m14.1 MB/s\u001B[0m eta \u001B[36m0:00:00\u001B[0m\n",
      "\u001B[?25h  Building wheel for tianshou (setup.py) ... \u001B[?25l\u001B[?25hdone\n"
     ]
    }
   ],
   "source": [
    "!pip install git+https://github.com/Markus28/tianshou.git@gymnasium_integration#egg=tianshou --quiet"
   ]
  },
  {
   "cell_type": "code",
   "execution_count": 3,
   "metadata": {
    "colab": {
     "base_uri": "https://localhost:8080/"
    },
    "id": "UyOq9We-I6ay",
    "outputId": "8983f0c6-ba3a-4465-ce66-5b844d1dad64"
   },
   "outputs": [
    {
     "output_type": "stream",
     "name": "stdout",
     "text": [
      "Reading package lists...\n",
      "Building dependency tree...\n",
      "Reading state information...\n",
      "software-properties-common is already the newest version (0.99.9.10).\n",
      "The following additional packages will be installed:\n",
      "  libgles-dev libgles1 libglew2.1 libglvnd-dev libopengl-dev libosmesa6\n",
      "Suggested packages:\n",
      "  glew-utils\n",
      "The following NEW packages will be installed:\n",
      "  libgl1-mesa-dev libgl1-mesa-glx libgles-dev libgles1 libglew-dev libglew2.1\n",
      "  libglvnd-dev libopengl-dev libosmesa6 libosmesa6-dev\n",
      "0 upgraded, 10 newly installed, 0 to remove and 19 not upgraded.\n",
      "Need to get 3,438 kB of archives.\n",
      "After this operation, 17.1 MB of additional disk space will be used.\n",
      "Get:1 http://archive.ubuntu.com/ubuntu focal-updates/main amd64 libgl1-mesa-glx amd64 21.2.6-0ubuntu0.1~20.04.2 [5,536 B]\n",
      "Get:2 http://archive.ubuntu.com/ubuntu focal-updates/main amd64 libgles1 amd64 1.3.2-1~ubuntu0.20.04.2 [10.3 kB]\n",
      "Get:3 http://archive.ubuntu.com/ubuntu focal-updates/main amd64 libgles-dev amd64 1.3.2-1~ubuntu0.20.04.2 [47.9 kB]\n",
      "Get:4 http://archive.ubuntu.com/ubuntu focal-updates/main amd64 libopengl-dev amd64 1.3.2-1~ubuntu0.20.04.2 [3,584 B]\n",
      "Get:5 http://archive.ubuntu.com/ubuntu focal-updates/main amd64 libglvnd-dev amd64 1.3.2-1~ubuntu0.20.04.2 [11.6 kB]\n",
      "Get:6 http://archive.ubuntu.com/ubuntu focal-updates/main amd64 libgl1-mesa-dev amd64 21.2.6-0ubuntu0.1~20.04.2 [6,420 B]\n",
      "Get:7 http://archive.ubuntu.com/ubuntu focal/universe amd64 libglew2.1 amd64 2.1.0-4 [155 kB]\n",
      "Get:8 http://archive.ubuntu.com/ubuntu focal/universe amd64 libglew-dev amd64 2.1.0-4 [134 kB]\n",
      "Get:9 http://archive.ubuntu.com/ubuntu focal-updates/main amd64 libosmesa6 amd64 21.2.6-0ubuntu0.1~20.04.2 [3,054 kB]\n",
      "Get:10 http://archive.ubuntu.com/ubuntu focal-updates/main amd64 libosmesa6-dev amd64 21.2.6-0ubuntu0.1~20.04.2 [8,844 B]\n",
      "Fetched 3,438 kB in 0s (7,627 kB/s)\n",
      "Selecting previously unselected package libgl1-mesa-glx:amd64.\n",
      "(Reading database ... 128208 files and directories currently installed.)\n",
      "Preparing to unpack .../0-libgl1-mesa-glx_21.2.6-0ubuntu0.1~20.04.2_amd64.deb ...\n",
      "Unpacking libgl1-mesa-glx:amd64 (21.2.6-0ubuntu0.1~20.04.2) ...\n",
      "Selecting previously unselected package libgles1:amd64.\n",
      "Preparing to unpack .../1-libgles1_1.3.2-1~ubuntu0.20.04.2_amd64.deb ...\n",
      "Unpacking libgles1:amd64 (1.3.2-1~ubuntu0.20.04.2) ...\n",
      "Selecting previously unselected package libgles-dev:amd64.\n",
      "Preparing to unpack .../2-libgles-dev_1.3.2-1~ubuntu0.20.04.2_amd64.deb ...\n",
      "Unpacking libgles-dev:amd64 (1.3.2-1~ubuntu0.20.04.2) ...\n",
      "Selecting previously unselected package libopengl-dev:amd64.\n",
      "Preparing to unpack .../3-libopengl-dev_1.3.2-1~ubuntu0.20.04.2_amd64.deb ...\n",
      "Unpacking libopengl-dev:amd64 (1.3.2-1~ubuntu0.20.04.2) ...\n",
      "Selecting previously unselected package libglvnd-dev:amd64.\n",
      "Preparing to unpack .../4-libglvnd-dev_1.3.2-1~ubuntu0.20.04.2_amd64.deb ...\n",
      "Unpacking libglvnd-dev:amd64 (1.3.2-1~ubuntu0.20.04.2) ...\n",
      "Selecting previously unselected package libgl1-mesa-dev:amd64.\n",
      "Preparing to unpack .../5-libgl1-mesa-dev_21.2.6-0ubuntu0.1~20.04.2_amd64.deb ...\n",
      "Unpacking libgl1-mesa-dev:amd64 (21.2.6-0ubuntu0.1~20.04.2) ...\n",
      "Selecting previously unselected package libglew2.1:amd64.\n",
      "Preparing to unpack .../6-libglew2.1_2.1.0-4_amd64.deb ...\n",
      "Unpacking libglew2.1:amd64 (2.1.0-4) ...\n",
      "Selecting previously unselected package libglew-dev:amd64.\n",
      "Preparing to unpack .../7-libglew-dev_2.1.0-4_amd64.deb ...\n",
      "Unpacking libglew-dev:amd64 (2.1.0-4) ...\n",
      "Selecting previously unselected package libosmesa6:amd64.\n",
      "Preparing to unpack .../8-libosmesa6_21.2.6-0ubuntu0.1~20.04.2_amd64.deb ...\n",
      "Unpacking libosmesa6:amd64 (21.2.6-0ubuntu0.1~20.04.2) ...\n",
      "Selecting previously unselected package libosmesa6-dev:amd64.\n",
      "Preparing to unpack .../9-libosmesa6-dev_21.2.6-0ubuntu0.1~20.04.2_amd64.deb ...\n",
      "Unpacking libosmesa6-dev:amd64 (21.2.6-0ubuntu0.1~20.04.2) ...\n",
      "Setting up libgles1:amd64 (1.3.2-1~ubuntu0.20.04.2) ...\n",
      "Setting up libgl1-mesa-glx:amd64 (21.2.6-0ubuntu0.1~20.04.2) ...\n",
      "Setting up libglew2.1:amd64 (2.1.0-4) ...\n",
      "Setting up libopengl-dev:amd64 (1.3.2-1~ubuntu0.20.04.2) ...\n",
      "Setting up libgles-dev:amd64 (1.3.2-1~ubuntu0.20.04.2) ...\n",
      "Setting up libosmesa6:amd64 (21.2.6-0ubuntu0.1~20.04.2) ...\n",
      "Setting up libglvnd-dev:amd64 (1.3.2-1~ubuntu0.20.04.2) ...\n",
      "Setting up libglew-dev:amd64 (2.1.0-4) ...\n",
      "Setting up libosmesa6-dev:amd64 (21.2.6-0ubuntu0.1~20.04.2) ...\n",
      "Setting up libgl1-mesa-dev:amd64 (21.2.6-0ubuntu0.1~20.04.2) ...\n",
      "Processing triggers for libc-bin (2.31-0ubuntu9.9) ...\n",
      "Reading package lists...\n",
      "Building dependency tree...\n",
      "Reading state information...\n",
      "The following NEW packages will be installed:\n",
      "  patchelf\n",
      "0 upgraded, 1 newly installed, 0 to remove and 19 not upgraded.\n",
      "Need to get 53.4 kB of archives.\n",
      "After this operation, 153 kB of additional disk space will be used.\n",
      "Get:1 http://archive.ubuntu.com/ubuntu focal/universe amd64 patchelf amd64 0.10-2build1 [53.4 kB]\n",
      "Fetched 53.4 kB in 1s (92.1 kB/s)\n",
      "Selecting previously unselected package patchelf.\n",
      "(Reading database ... 128302 files and directories currently installed.)\n",
      "Preparing to unpack .../patchelf_0.10-2build1_amd64.deb ...\n",
      "Unpacking patchelf (0.10-2build1) ...\n",
      "Setting up patchelf (0.10-2build1) ...\n",
      "Processing triggers for man-db (2.9.1-1) ...\n"
     ]
    }
   ],
   "source": [
    "!apt-get -q install -y \\\n",
    "    libgl1-mesa-dev \\\n",
    "    libgl1-mesa-glx \\\n",
    "    libglew-dev \\\n",
    "    libosmesa6-dev \\\n",
    "    software-properties-common\n",
    "\n",
    "!apt-get -q install -y patchelf"
   ]
  },
  {
   "cell_type": "code",
   "execution_count": 4,
   "metadata": {
    "id": "UbOlVWv0157i",
    "colab": {
     "base_uri": "https://localhost:8080/"
    },
    "outputId": "9c39e8fd-668a-4c1e-a17f-959b55d35d90"
   },
   "outputs": [
    {
     "output_type": "stream",
     "name": "stdout",
     "text": [
      "\u001B[2K     \u001B[90m━━━━━━━━━━━━━━━━━━━━━━━━━━━━━━━━━━━━━━━━\u001B[0m \u001B[32m74.7/74.7 MB\u001B[0m \u001B[31m10.7 MB/s\u001B[0m eta \u001B[36m0:00:00\u001B[0m\n",
      "\u001B[2K     \u001B[90m━━━━━━━━━━━━━━━━━━━━━━━━━━━━━━━━━━━━━━━━\u001B[0m \u001B[32m2.0/2.0 MB\u001B[0m \u001B[31m58.8 MB/s\u001B[0m eta \u001B[36m0:00:00\u001B[0m\n",
      "\u001B[2K     \u001B[90m━━━━━━━━━━━━━━━━━━━━━━━━━━━━━━━━━━━━━━\u001B[0m \u001B[32m816.1/816.1 KB\u001B[0m \u001B[31m53.3 MB/s\u001B[0m eta \u001B[36m0:00:00\u001B[0m\n",
      "\u001B[2K     \u001B[90m━━━━━━━━━━━━━━━━━━━━━━━━━━━━━━━━━━━━━━━━\u001B[0m \u001B[32m27.9/27.9 MB\u001B[0m \u001B[31m31.3 MB/s\u001B[0m eta \u001B[36m0:00:00\u001B[0m\n",
      "\u001B[2K     \u001B[90m━━━━━━━━━━━━━━━━━━━━━━━━━━━━━━━━━━━━━━━━\u001B[0m \u001B[32m61.2/61.2 KB\u001B[0m \u001B[31m6.6 MB/s\u001B[0m eta \u001B[36m0:00:00\u001B[0m\n",
      "\u001B[2K     \u001B[90m━━━━━━━━━━━━━━━━━━━━━━━━━━━━━━━━━━━━━━━━\u001B[0m \u001B[32m3.5/3.5 MB\u001B[0m \u001B[31m61.3 MB/s\u001B[0m eta \u001B[36m0:00:00\u001B[0m\n",
      "\u001B[?25h  Preparing metadata (setup.py) ... \u001B[?25l\u001B[?25hdone\n",
      "\u001B[2K     \u001B[90m━━━━━━━━━━━━━━━━━━━━━━━━━━━━━━━━━━━━━━\u001B[0m \u001B[32m181.3/181.3 KB\u001B[0m \u001B[31m11.9 MB/s\u001B[0m eta \u001B[36m0:00:00\u001B[0m\n",
      "\u001B[2K     \u001B[90m━━━━━━━━━━━━━━━━━━━━━━━━━━━━━━━━━━━━━━━\u001B[0m \u001B[32m184.3/184.3 KB\u001B[0m \u001B[31m8.5 MB/s\u001B[0m eta \u001B[36m0:00:00\u001B[0m\n",
      "\u001B[2K     \u001B[90m━━━━━━━━━━━━━━━━━━━━━━━━━━━━━━━━━━━━━━━━\u001B[0m \u001B[32m4.2/4.2 MB\u001B[0m \u001B[31m55.1 MB/s\u001B[0m eta \u001B[36m0:00:00\u001B[0m\n",
      "\u001B[2K     \u001B[90m━━━━━━━━━━━━━━━━━━━━━━━━━━━━━━━━━━━━━━━━\u001B[0m \u001B[32m62.7/62.7 KB\u001B[0m \u001B[31m7.3 MB/s\u001B[0m eta \u001B[36m0:00:00\u001B[0m\n",
      "\u001B[2K     \u001B[90m━━━━━━━━━━━━━━━━━━━━━━━━━━━━━━━━━━━━━━\u001B[0m \u001B[32m207.6/207.6 KB\u001B[0m \u001B[31m19.4 MB/s\u001B[0m eta \u001B[36m0:00:00\u001B[0m\n",
      "\u001B[2K     \u001B[90m━━━━━━━━━━━━━━━━━━━━━━━━━━━━━━━━━━━━━━\u001B[0m \u001B[32m140.6/140.6 KB\u001B[0m \u001B[31m15.5 MB/s\u001B[0m eta \u001B[36m0:00:00\u001B[0m\n",
      "\u001B[2K     \u001B[90m━━━━━━━━━━━━━━━━━━━━━━━━━━━━━━━━━━━━━━━━\u001B[0m \u001B[32m61.7/61.7 KB\u001B[0m \u001B[31m7.2 MB/s\u001B[0m eta \u001B[36m0:00:00\u001B[0m\n",
      "\u001B[2K     \u001B[90m━━━━━━━━━━━━━━━━━━━━━━━━━━━━━━━━━━━━━━━━\u001B[0m \u001B[32m47.0/47.0 KB\u001B[0m \u001B[31m4.7 MB/s\u001B[0m eta \u001B[36m0:00:00\u001B[0m\n",
      "\u001B[2K     \u001B[90m━━━━━━━━━━━━━━━━━━━━━━━━━━━━━━━━━━━━━━\u001B[0m \u001B[32m118.6/118.6 KB\u001B[0m \u001B[31m13.6 MB/s\u001B[0m eta \u001B[36m0:00:00\u001B[0m\n",
      "\u001B[2K     \u001B[90m━━━━━━━━━━━━━━━━━━━━━━━━━━━━━━━━━━━━━━━━\u001B[0m \u001B[32m88.5/88.5 KB\u001B[0m \u001B[31m8.9 MB/s\u001B[0m eta \u001B[36m0:00:00\u001B[0m\n",
      "\u001B[?25h  Preparing metadata (setup.py) ... \u001B[?25l\u001B[?25hdone\n",
      "  Building wheel for pathtools (setup.py) ... \u001B[?25l\u001B[?25hdone\n",
      "  Building wheel for bitmath (setup.py) ... \u001B[?25l\u001B[?25hdone\n"
     ]
    }
   ],
   "source": [
    "!pip install envpool wandb pettingzoo gymnasium-robotics --quiet"
   ]
  },
  {
   "cell_type": "code",
   "execution_count": 5,
   "metadata": {
    "id": "fCkkosakI_bC",
    "colab": {
     "base_uri": "https://localhost:8080/"
    },
    "outputId": "7f6d59c9-9493-4e02-8d4c-56ae3cd5f1c3"
   },
   "outputs": [
    {
     "output_type": "stream",
     "name": "stdout",
     "text": [
      "\u001B[2K     \u001B[90m━━━━━━━━━━━━━━━━━━━━━━━━━━━━━━━━━━━━━━━━\u001B[0m \u001B[32m14.1/14.1 MB\u001B[0m \u001B[31m52.5 MB/s\u001B[0m eta \u001B[36m0:00:00\u001B[0m\n",
      "\u001B[2K     \u001B[90m━━━━━━━━━━━━━━━━━━━━━━━━━━━━━━━━━━━━━━\u001B[0m \u001B[32m203.7/203.7 KB\u001B[0m \u001B[31m16.2 MB/s\u001B[0m eta \u001B[36m0:00:00\u001B[0m\n",
      "\u001B[?25h"
     ]
    }
   ],
   "source": [
    "!pip install free-mujoco-py --quiet"
   ]
  },
  {
   "cell_type": "code",
   "execution_count": 6,
   "metadata": {
    "id": "7TZHDrP1JTUj",
    "colab": {
     "base_uri": "https://localhost:8080/"
    },
    "outputId": "0ffb2d37-609d-45d0-a18c-8aa9ea8a8730"
   },
   "outputs": [
    {
     "output_type": "stream",
     "name": "stdout",
     "text": [
      "Compiling /usr/local/lib/python3.8/dist-packages/mujoco_py/cymj.pyx because it changed.\n",
      "[1/1] Cythonizing /usr/local/lib/python3.8/dist-packages/mujoco_py/cymj.pyx\n",
      "running build_ext\n",
      "building 'mujoco_py.cymj' extension\n",
      "creating /usr/local/lib/python3.8/dist-packages/mujoco_py/generated/_pyxbld_2.0.2.13_38_linuxcpuextensionbuilder\n",
      "creating /usr/local/lib/python3.8/dist-packages/mujoco_py/generated/_pyxbld_2.0.2.13_38_linuxcpuextensionbuilder/temp.linux-x86_64-3.8\n",
      "creating /usr/local/lib/python3.8/dist-packages/mujoco_py/generated/_pyxbld_2.0.2.13_38_linuxcpuextensionbuilder/temp.linux-x86_64-3.8/usr\n",
      "creating /usr/local/lib/python3.8/dist-packages/mujoco_py/generated/_pyxbld_2.0.2.13_38_linuxcpuextensionbuilder/temp.linux-x86_64-3.8/usr/local\n",
      "creating /usr/local/lib/python3.8/dist-packages/mujoco_py/generated/_pyxbld_2.0.2.13_38_linuxcpuextensionbuilder/temp.linux-x86_64-3.8/usr/local/lib\n",
      "creating /usr/local/lib/python3.8/dist-packages/mujoco_py/generated/_pyxbld_2.0.2.13_38_linuxcpuextensionbuilder/temp.linux-x86_64-3.8/usr/local/lib/python3.8\n",
      "creating /usr/local/lib/python3.8/dist-packages/mujoco_py/generated/_pyxbld_2.0.2.13_38_linuxcpuextensionbuilder/temp.linux-x86_64-3.8/usr/local/lib/python3.8/dist-packages\n",
      "creating /usr/local/lib/python3.8/dist-packages/mujoco_py/generated/_pyxbld_2.0.2.13_38_linuxcpuextensionbuilder/temp.linux-x86_64-3.8/usr/local/lib/python3.8/dist-packages/mujoco_py\n",
      "creating /usr/local/lib/python3.8/dist-packages/mujoco_py/generated/_pyxbld_2.0.2.13_38_linuxcpuextensionbuilder/temp.linux-x86_64-3.8/usr/local/lib/python3.8/dist-packages/mujoco_py/gl\n",
      "x86_64-linux-gnu-gcc -pthread -Wno-unused-result -Wsign-compare -DNDEBUG -g -fwrapv -O2 -Wall -g -fstack-protector-strong -Wformat -Werror=format-security -g -fwrapv -O2 -g -fstack-protector-strong -Wformat -Werror=format-security -Wdate-time -D_FORTIFY_SOURCE=2 -fPIC -I/usr/local/lib/python3.8/dist-packages/mujoco_py -I/usr/local/lib/python3.8/dist-packages/mujoco_py/binaries/linux/mujoco210/include -I/usr/local/lib/python3.8/dist-packages/numpy/core/include -I/usr/include/python3.8 -c /usr/local/lib/python3.8/dist-packages/mujoco_py/cymj.c -o /usr/local/lib/python3.8/dist-packages/mujoco_py/generated/_pyxbld_2.0.2.13_38_linuxcpuextensionbuilder/temp.linux-x86_64-3.8/usr/local/lib/python3.8/dist-packages/mujoco_py/cymj.o -fopenmp -w\n",
      "x86_64-linux-gnu-gcc -pthread -Wno-unused-result -Wsign-compare -DNDEBUG -g -fwrapv -O2 -Wall -g -fstack-protector-strong -Wformat -Werror=format-security -g -fwrapv -O2 -g -fstack-protector-strong -Wformat -Werror=format-security -Wdate-time -D_FORTIFY_SOURCE=2 -fPIC -I/usr/local/lib/python3.8/dist-packages/mujoco_py -I/usr/local/lib/python3.8/dist-packages/mujoco_py/binaries/linux/mujoco210/include -I/usr/local/lib/python3.8/dist-packages/numpy/core/include -I/usr/include/python3.8 -c /usr/local/lib/python3.8/dist-packages/mujoco_py/gl/osmesashim.c -o /usr/local/lib/python3.8/dist-packages/mujoco_py/generated/_pyxbld_2.0.2.13_38_linuxcpuextensionbuilder/temp.linux-x86_64-3.8/usr/local/lib/python3.8/dist-packages/mujoco_py/gl/osmesashim.o -fopenmp -w\n",
      "creating /usr/local/lib/python3.8/dist-packages/mujoco_py/generated/_pyxbld_2.0.2.13_38_linuxcpuextensionbuilder/lib.linux-x86_64-3.8\n",
      "creating /usr/local/lib/python3.8/dist-packages/mujoco_py/generated/_pyxbld_2.0.2.13_38_linuxcpuextensionbuilder/lib.linux-x86_64-3.8/mujoco_py\n",
      "x86_64-linux-gnu-gcc -pthread -shared -Wl,-O1 -Wl,-Bsymbolic-functions -Wl,-Bsymbolic-functions -Wl,-z,relro -g -fwrapv -O2 -Wl,-Bsymbolic-functions -Wl,-z,relro -g -fwrapv -O2 -g -fstack-protector-strong -Wformat -Werror=format-security -Wdate-time -D_FORTIFY_SOURCE=2 /usr/local/lib/python3.8/dist-packages/mujoco_py/generated/_pyxbld_2.0.2.13_38_linuxcpuextensionbuilder/temp.linux-x86_64-3.8/usr/local/lib/python3.8/dist-packages/mujoco_py/cymj.o /usr/local/lib/python3.8/dist-packages/mujoco_py/generated/_pyxbld_2.0.2.13_38_linuxcpuextensionbuilder/temp.linux-x86_64-3.8/usr/local/lib/python3.8/dist-packages/mujoco_py/gl/osmesashim.o -L/usr/local/lib/python3.8/dist-packages/mujoco_py/binaries/linux/mujoco210/bin -Wl,--enable-new-dtags,-R/usr/local/lib/python3.8/dist-packages/mujoco_py/binaries/linux/mujoco210/bin -lmujoco210 -lglewosmesa -lOSMesa -lGL -o /usr/local/lib/python3.8/dist-packages/mujoco_py/generated/_pyxbld_2.0.2.13_38_linuxcpuextensionbuilder/lib.linux-x86_64-3.8/mujoco_py/cymj.cpython-38-x86_64-linux-gnu.so -fopenmp\n"
     ]
    }
   ],
   "source": [
    "import mujoco_py"
   ]
  },
  {
   "cell_type": "code",
   "execution_count": 7,
   "metadata": {
    "colab": {
     "base_uri": "https://localhost:8080/"
    },
    "id": "Jtbz6g5yj3FL",
    "outputId": "1fc6b2ec-42d5-480b-e114-674302829ab5"
   },
   "outputs": [
    {
     "output_type": "stream",
     "name": "stdout",
     "text": [
      "2023-02-25 10:59:01.469372: W tensorflow/compiler/xla/stream_executor/platform/default/dso_loader.cc:64] Could not load dynamic library 'libnvinfer.so.7'; dlerror: libnvinfer.so.7: cannot open shared object file: No such file or directory; LD_LIBRARY_PATH: /usr/local/lib/python3.8/dist-packages/mujoco_py/binaries/linux/mujoco210/bin\n",
      "2023-02-25 10:59:01.469548: W tensorflow/compiler/xla/stream_executor/platform/default/dso_loader.cc:64] Could not load dynamic library 'libnvinfer_plugin.so.7'; dlerror: libnvinfer_plugin.so.7: cannot open shared object file: No such file or directory; LD_LIBRARY_PATH: /usr/local/lib/python3.8/dist-packages/mujoco_py/binaries/linux/mujoco210/bin\n",
      "2023-02-25 10:59:01.469572: W tensorflow/compiler/tf2tensorrt/utils/py_utils.cc:38] TF-TRT Warning: Cannot dlopen some TensorRT libraries. If you would like to use Nvidia GPU with TensorRT, please make sure the missing libraries mentioned above are installed properly.\n",
      "Observations shape: {'observation': (25,), 'achieved_goal': (3,), 'desired_goal': (3,)}\n",
      "Actions shape: (4,)\n",
      "Action range: -1.0 1.0\n",
      "Epoch #1: 5001it [12:24,  6.72it/s, env_step=5000, len=50, loss/actor=-6.386, loss/critic1=1.017, loss/critic2=1.020, n/ep=1, n/st=1, rew=-50.00]\n",
      "Epoch #1: test_reward: -45.000000 ± 15.000000, best_reward: -45.000000 ± 15.000000 in #1\n",
      "Epoch #2: 5001it [12:40,  6.58it/s, env_step=10000, len=50, loss/actor=-9.141, loss/critic1=2.269, loss/critic2=2.296, n/ep=1, n/st=1, rew=-50.00]\n",
      "Epoch #2: test_reward: -50.000000 ± 0.000000, best_reward: -45.000000 ± 15.000000 in #1\n",
      "Epoch #3: 5001it [12:55,  6.45it/s, env_step=15000, len=50, loss/actor=-10.895, loss/critic1=3.323, loss/critic2=3.326, n/ep=1, n/st=1, rew=-50.00]\n",
      "Epoch #3: test_reward: -45.000000 ± 15.000000, best_reward: -45.000000 ± 15.000000 in #1\n",
      "Epoch #4: 5001it [12:58,  6.42it/s, env_step=20000, len=50, loss/actor=-12.046, loss/critic1=4.174, loss/critic2=4.175, n/ep=1, n/st=1, rew=0.00]\n",
      "Epoch #4: test_reward: -45.000000 ± 15.000000, best_reward: -45.000000 ± 15.000000 in #1\n",
      "Epoch #5: 5001it [13:03,  6.38it/s, env_step=25000, len=50, loss/actor=-12.927, loss/critic1=4.931, loss/critic2=4.950, n/ep=1, n/st=1, rew=-50.00]\n",
      "Epoch #5: test_reward: -45.000000 ± 15.000000, best_reward: -45.000000 ± 15.000000 in #1\n",
      "Epoch #6: 5001it [13:06,  6.36it/s, env_step=30000, len=50, loss/actor=-13.375, loss/critic1=5.291, loss/critic2=5.279, n/ep=1, n/st=1, rew=-50.00]\n",
      "Epoch #6: test_reward: -50.000000 ± 0.000000, best_reward: -45.000000 ± 15.000000 in #1\n",
      "Epoch #7: 5001it [13:15,  6.29it/s, env_step=35000, len=50, loss/actor=-13.605, loss/critic1=5.670, loss/critic2=5.642, n/ep=1, n/st=1, rew=-50.00]\n",
      "Epoch #7: test_reward: -50.000000 ± 0.000000, best_reward: -45.000000 ± 15.000000 in #1\n",
      "Epoch #8: 5001it [13:22,  6.23it/s, env_step=40000, len=50, loss/actor=-13.937, loss/critic1=5.313, loss/critic2=5.309, n/ep=1, n/st=1, rew=0.00]\n",
      "Epoch #8: test_reward: -45.000000 ± 15.000000, best_reward: -45.000000 ± 15.000000 in #1\n",
      "Epoch #9: 5001it [13:27,  6.19it/s, env_step=45000, len=50, loss/actor=-13.858, loss/critic1=5.391, loss/critic2=5.409, n/ep=1, n/st=1, rew=-50.00]\n",
      "Epoch #9: test_reward: -50.000000 ± 0.000000, best_reward: -45.000000 ± 15.000000 in #1\n",
      "Epoch #10: 5001it [13:34,  6.14it/s, env_step=50000, len=50, loss/actor=-13.850, loss/critic1=5.369, loss/critic2=5.419, n/ep=1, n/st=1, rew=0.00]\n",
      "Epoch #10: test_reward: -35.000000 ± 22.912878, best_reward: -35.000000 ± 22.912878 in #10\n",
      "Epoch #11: 5001it [13:41,  6.09it/s, env_step=55000, len=50, loss/actor=-14.000, loss/critic1=5.933, loss/critic2=6.014, n/ep=1, n/st=1, rew=-50.00]\n",
      "Epoch #11: test_reward: -50.000000 ± 0.000000, best_reward: -35.000000 ± 22.912878 in #10\n",
      "Epoch #12: 5001it [13:46,  6.05it/s, env_step=60000, len=50, loss/actor=-14.430, loss/critic1=9.207, loss/critic2=9.185, n/ep=1, n/st=1, rew=-50.00]\n",
      "Epoch #12: test_reward: -45.000000 ± 15.000000, best_reward: -35.000000 ± 22.912878 in #10\n",
      "Epoch #13: 5001it [13:57,  5.97it/s, env_step=65000, len=50, loss/actor=-14.296, loss/critic1=23.671, loss/critic2=23.585, n/ep=1, n/st=1, rew=-50.00]\n",
      "Epoch #13: test_reward: -50.000000 ± 0.000000, best_reward: -35.000000 ± 22.912878 in #10\n",
      "Epoch #14: 5001it [13:54,  5.99it/s, env_step=70000, len=50, loss/actor=-19.218, loss/critic1=47.299, loss/critic2=47.754, n/ep=1, n/st=1, rew=-50.00]\n",
      "Epoch #14: test_reward: -50.000000 ± 0.000000, best_reward: -35.000000 ± 22.912878 in #10\n",
      "Epoch #15: 5001it [13:57,  5.97it/s, env_step=75000, len=50, loss/actor=-28.711, loss/critic1=129.684, loss/critic2=133.783, n/ep=1, n/st=1, rew=-50.00]\n",
      "Epoch #15: test_reward: -45.000000 ± 15.000000, best_reward: -35.000000 ± 22.912878 in #10\n",
      "Epoch #16: 5001it [13:57,  5.97it/s, env_step=80000, len=50, loss/actor=-49.116, loss/critic1=336.609, loss/critic2=338.710, n/ep=1, n/st=1, rew=-50.00]\n",
      "Epoch #16: test_reward: -45.000000 ± 15.000000, best_reward: -35.000000 ± 22.912878 in #10\n",
      "Epoch #17: 5001it [13:50,  6.02it/s, env_step=85000, len=50, loss/actor=-74.461, loss/critic1=600.618, loss/critic2=613.485, n/ep=1, n/st=1, rew=-50.00]\n",
      "Epoch #17: test_reward: -50.000000 ± 0.000000, best_reward: -35.000000 ± 22.912878 in #10\n",
      "Epoch #18: 5001it [13:50,  6.03it/s, env_step=90000, len=50, loss/actor=-99.367, loss/critic1=1245.907, loss/critic2=1241.896, n/ep=1, n/st=1, rew=-50.00]\n",
      "Epoch #18: test_reward: -45.000000 ± 15.000000, best_reward: -35.000000 ± 22.912878 in #10\n",
      "Epoch #19: 5001it [13:52,  6.01it/s, env_step=95000, len=50, loss/actor=-129.920, loss/critic1=1565.890, loss/critic2=1512.932, n/ep=1, n/st=1, rew=-50.00]\n",
      "Epoch #19: test_reward: -47.300000 ± 8.100000, best_reward: -35.000000 ± 22.912878 in #10\n",
      "Epoch #20: 5001it [13:47,  6.04it/s, env_step=100000, len=50, loss/actor=-148.093, loss/critic1=2035.531, loss/critic2=1970.870, n/ep=1, n/st=1, rew=-50.00]\n",
      "Epoch #20: test_reward: -45.000000 ± 15.000000, best_reward: -35.000000 ± 22.912878 in #10\n",
      "Epoch #21: 5001it [13:48,  6.04it/s, env_step=105000, len=50, loss/actor=-160.952, loss/critic1=1592.782, loss/critic2=1556.958, n/ep=1, n/st=1, rew=-50.00]\n",
      "Epoch #21: test_reward: -50.000000 ± 0.000000, best_reward: -35.000000 ± 22.912878 in #10\n",
      "Epoch #22: 5001it [13:44,  6.06it/s, env_step=110000, len=50, loss/actor=-192.295, loss/critic1=2513.170, loss/critic2=2495.408, n/ep=1, n/st=1, rew=-50.00]\n",
      "Epoch #22: test_reward: -50.000000 ± 0.000000, best_reward: -35.000000 ± 22.912878 in #10\n",
      "Epoch #23: 5001it [13:49,  6.03it/s, env_step=115000, len=50, loss/actor=-216.727, loss/critic1=2656.998, loss/critic2=2644.175, n/ep=1, n/st=1, rew=-50.00]\n",
      "Epoch #23: test_reward: -45.200000 ± 14.400000, best_reward: -35.000000 ± 22.912878 in #10\n",
      "Epoch #24: 5001it [13:47,  6.05it/s, env_step=120000, len=50, loss/actor=-214.062, loss/critic1=1989.951, loss/critic2=1992.057, n/ep=1, n/st=1, rew=-50.00]\n",
      "Epoch #24: test_reward: -50.000000 ± 0.000000, best_reward: -35.000000 ± 22.912878 in #10\n",
      "Epoch #25: 5001it [13:44,  6.07it/s, env_step=125000, len=50, loss/actor=-212.644, loss/critic1=2045.470, loss/critic2=2071.536, n/ep=1, n/st=1, rew=-50.00]\n",
      "Epoch #25: test_reward: -39.300000 ± 17.584368, best_reward: -35.000000 ± 22.912878 in #10\n",
      "Epoch #26: 5001it [13:43,  6.07it/s, env_step=130000, len=50, loss/actor=-210.274, loss/critic1=2466.729, loss/critic2=2432.651, n/ep=1, n/st=1, rew=-50.00]\n",
      "Epoch #26: test_reward: -44.400000 ± 14.907716, best_reward: -35.000000 ± 22.912878 in #10\n",
      "Epoch #27: 5001it [12:45,  6.53it/s, env_step=135000, len=50, loss/actor=-197.869, loss/critic1=1701.283, loss/critic2=1682.413, n/ep=1, n/st=1, rew=-50.00]\n",
      "Epoch #27: test_reward: -45.700000 ± 12.900000, best_reward: -35.000000 ± 22.912878 in #10\n",
      "Epoch #28: 5001it [11:54,  7.00it/s, env_step=140000, len=50, loss/actor=-164.922, loss/critic1=1185.037, loss/critic2=1172.286, n/ep=1, n/st=1, rew=0.00]\n",
      "Epoch #28: test_reward: -49.600000 ± 1.200000, best_reward: -35.000000 ± 22.912878 in #10\n",
      "Epoch #29: 5001it [11:56,  6.98it/s, env_step=145000, len=50, loss/actor=-123.143, loss/critic1=762.118, loss/critic2=760.947, n/ep=1, n/st=1, rew=-50.00]\n",
      "Epoch #29: test_reward: -50.000000 ± 0.000000, best_reward: -35.000000 ± 22.912878 in #10\n",
      "Epoch #30: 5001it [11:55,  6.98it/s, env_step=150000, len=50, loss/actor=-93.498, loss/critic1=634.212, loss/critic2=631.718, n/ep=1, n/st=1, rew=-50.00]\n",
      "Epoch #30: test_reward: -40.000000 ± 20.000000, best_reward: -35.000000 ± 22.912878 in #10\n",
      "Epoch #31: 5001it [11:56,  6.98it/s, env_step=155000, len=50, loss/actor=-75.413, loss/critic1=521.217, loss/critic2=518.677, n/ep=1, n/st=1, rew=-50.00]\n",
      "Epoch #31: test_reward: -50.000000 ± 0.000000, best_reward: -35.000000 ± 22.912878 in #10\n",
      "Epoch #32: 5001it [11:55,  6.99it/s, env_step=160000, len=50, loss/actor=-65.205, loss/critic1=419.586, loss/critic2=417.816, n/ep=1, n/st=1, rew=-48.00]\n",
      "Epoch #32: test_reward: -50.000000 ± 0.000000, best_reward: -35.000000 ± 22.912878 in #10\n",
      "Epoch #33: 5001it [11:54,  7.00it/s, env_step=165000, len=50, loss/actor=-50.092, loss/critic1=214.085, loss/critic2=214.550, n/ep=1, n/st=1, rew=-50.00]\n",
      "Epoch #33: test_reward: -45.000000 ± 15.000000, best_reward: -35.000000 ± 22.912878 in #10\n",
      "Epoch #34: 5001it [11:50,  7.04it/s, env_step=170000, len=50, loss/actor=-34.977, loss/critic1=124.389, loss/critic2=125.318, n/ep=1, n/st=1, rew=-50.00]\n",
      "Epoch #34: test_reward: -45.000000 ± 15.000000, best_reward: -35.000000 ± 22.912878 in #10\n",
      "Epoch #35: 5001it [11:52,  7.02it/s, env_step=175000, len=50, loss/actor=-25.723, loss/critic1=71.920, loss/critic2=70.603, n/ep=1, n/st=1, rew=-50.00]\n",
      "Epoch #35: test_reward: -50.000000 ± 0.000000, best_reward: -35.000000 ± 22.912878 in #10\n",
      "Epoch #36: 5001it [11:53,  7.00it/s, env_step=180000, len=50, loss/actor=-18.204, loss/critic1=42.488, loss/critic2=41.746, n/ep=1, n/st=1, rew=-50.00]\n",
      "Epoch #36: test_reward: -45.000000 ± 15.000000, best_reward: -35.000000 ± 22.912878 in #10\n",
      "Epoch #37: 5001it [11:59,  6.95it/s, env_step=185000, len=50, loss/actor=-14.983, loss/critic1=29.117, loss/critic2=28.556, n/ep=1, n/st=1, rew=-50.00]\n",
      "Epoch #37: test_reward: -45.000000 ± 15.000000, best_reward: -35.000000 ± 22.912878 in #10\n",
      "Epoch #38: 5001it [11:57,  6.97it/s, env_step=190000, len=50, loss/actor=-16.142, loss/critic1=34.518, loss/critic2=34.089, n/ep=1, n/st=1, rew=-50.00]\n",
      "Epoch #38: test_reward: -45.000000 ± 15.000000, best_reward: -35.000000 ± 22.912878 in #10\n",
      "Epoch #39: 5001it [12:01,  6.93it/s, env_step=195000, len=50, loss/actor=-18.323, loss/critic1=50.912, loss/critic2=51.143, n/ep=1, n/st=1, rew=-50.00]\n",
      "Epoch #39: test_reward: -45.000000 ± 15.000000, best_reward: -35.000000 ± 22.912878 in #10\n",
      "Epoch #40: 5001it [12:02,  6.92it/s, env_step=200000, len=50, loss/actor=-21.599, loss/critic1=74.642, loss/critic2=74.358, n/ep=1, n/st=1, rew=-50.00]\n",
      "Epoch #40: test_reward: -50.000000 ± 0.000000, best_reward: -35.000000 ± 22.912878 in #10\n",
      "Epoch #41: 5001it [11:57,  6.97it/s, env_step=205000, len=50, loss/actor=-21.489, loss/critic1=65.992, loss/critic2=66.410, n/ep=1, n/st=1, rew=-50.00]\n",
      "Epoch #41: test_reward: -48.700000 ± 3.900000, best_reward: -35.000000 ± 22.912878 in #10\n",
      "Epoch #42: 5001it [11:54,  7.00it/s, env_step=210000, len=50, loss/actor=-20.857, loss/critic1=66.452, loss/critic2=66.341, n/ep=1, n/st=1, rew=-50.00]\n",
      "Epoch #42: test_reward: -50.000000 ± 0.000000, best_reward: -35.000000 ± 22.912878 in #10\n",
      "Epoch #43: 5001it [11:54,  7.00it/s, env_step=215000, len=50, loss/actor=-22.466, loss/critic1=108.529, loss/critic2=109.570, n/ep=1, n/st=1, rew=-50.00]\n",
      "Epoch #43: test_reward: -44.600000 ± 14.914423, best_reward: -35.000000 ± 22.912878 in #10\n",
      "Epoch #44: 5001it [11:56,  6.98it/s, env_step=220000, len=50, loss/actor=-30.569, loss/critic1=143.721, loss/critic2=146.156, n/ep=1, n/st=1, rew=-50.00]\n",
      "Epoch #44: test_reward: -48.900000 ± 2.700000, best_reward: -35.000000 ± 22.912878 in #10\n",
      "Epoch #45: 5001it [11:53,  7.01it/s, env_step=225000, len=50, loss/actor=-35.101, loss/critic1=190.256, loss/critic2=197.021, n/ep=1, n/st=1, rew=-50.00]\n",
      "Epoch #45: test_reward: -45.000000 ± 15.000000, best_reward: -35.000000 ± 22.912878 in #10\n",
      "Epoch #46: 5001it [11:52,  7.02it/s, env_step=230000, len=50, loss/actor=-40.732, loss/critic1=200.775, loss/critic2=200.186, n/ep=1, n/st=1, rew=-50.00]\n",
      "Epoch #46: test_reward: -45.000000 ± 15.000000, best_reward: -35.000000 ± 22.912878 in #10\n",
      "Epoch #47: 5001it [11:54,  7.00it/s, env_step=235000, len=50, loss/actor=-45.843, loss/critic1=252.756, loss/critic2=245.799, n/ep=1, n/st=1, rew=-50.00]\n",
      "Epoch #47: test_reward: -49.100000 ± 2.118962, best_reward: -35.000000 ± 22.912878 in #10\n",
      "Epoch #48: 5001it [11:56,  6.98it/s, env_step=240000, len=50, loss/actor=-42.084, loss/critic1=172.982, loss/critic2=175.023, n/ep=1, n/st=1, rew=-50.00]\n",
      "Epoch #48: test_reward: -45.000000 ± 15.000000, best_reward: -35.000000 ± 22.912878 in #10\n",
      "Epoch #49: 5001it [11:58,  6.96it/s, env_step=245000, len=50, loss/actor=-40.264, loss/critic1=139.936, loss/critic2=137.538, n/ep=1, n/st=1, rew=-50.00]\n",
      "Epoch #49: test_reward: -50.000000 ± 0.000000, best_reward: -35.000000 ± 22.912878 in #10\n",
      "Epoch #50: 5001it [11:58,  6.96it/s, env_step=250000, len=50, loss/actor=-41.532, loss/critic1=156.586, loss/critic2=153.520, n/ep=1, n/st=1, rew=-50.00]\n",
      "Epoch #50: test_reward: -50.000000 ± 0.000000, best_reward: -35.000000 ± 22.912878 in #10\n",
      "Epoch #51: 5001it [11:59,  6.95it/s, env_step=255000, len=50, loss/actor=-40.384, loss/critic1=125.939, loss/critic2=120.394, n/ep=1, n/st=1, rew=-50.00]\n",
      "Epoch #51: test_reward: -50.000000 ± 0.000000, best_reward: -35.000000 ± 22.912878 in #10\n",
      "Epoch #52: 5001it [11:59,  6.95it/s, env_step=260000, len=50, loss/actor=-41.311, loss/critic1=131.963, loss/critic2=133.158, n/ep=1, n/st=1, rew=-50.00]\n",
      "Epoch #52: test_reward: -45.000000 ± 15.000000, best_reward: -35.000000 ± 22.912878 in #10\n",
      "Epoch #53: 5001it [12:00,  6.94it/s, env_step=265000, len=50, loss/actor=-41.967, loss/critic1=135.873, loss/critic2=131.731, n/ep=1, n/st=1, rew=-50.00]\n",
      "Epoch #53: test_reward: -45.000000 ± 15.000000, best_reward: -35.000000 ± 22.912878 in #10\n",
      "Epoch #54: 5001it [11:57,  6.97it/s, env_step=270000, len=50, loss/actor=-43.495, loss/critic1=196.670, loss/critic2=185.455, n/ep=1, n/st=1, rew=-50.00]\n",
      "Epoch #54: test_reward: -50.000000 ± 0.000000, best_reward: -35.000000 ± 22.912878 in #10\n",
      "Epoch #55: 5001it [11:58,  6.96it/s, env_step=275000, len=50, loss/actor=-44.448, loss/critic1=174.535, loss/critic2=171.418, n/ep=1, n/st=1, rew=-50.00]\n",
      "Epoch #55: test_reward: -42.700000 ± 15.799051, best_reward: -35.000000 ± 22.912878 in #10\n",
      "Epoch #56: 5001it [11:58,  6.96it/s, env_step=280000, len=50, loss/actor=-43.963, loss/critic1=163.968, loss/critic2=158.099, n/ep=1, n/st=1, rew=-50.00]\n",
      "Epoch #56: test_reward: -49.500000 ± 1.500000, best_reward: -35.000000 ± 22.912878 in #10\n",
      "Epoch #57: 5001it [11:56,  6.98it/s, env_step=285000, len=50, loss/actor=-49.611, loss/critic1=195.935, loss/critic2=189.840, n/ep=1, n/st=1, rew=-41.00]\n",
      "Epoch #57: test_reward: -49.500000 ± 1.500000, best_reward: -35.000000 ± 22.912878 in #10\n",
      "Epoch #58: 5001it [11:55,  6.99it/s, env_step=290000, len=50, loss/actor=-44.834, loss/critic1=152.243, loss/critic2=150.420, n/ep=1, n/st=1, rew=-50.00]\n",
      "Epoch #58: test_reward: -50.000000 ± 0.000000, best_reward: -35.000000 ± 22.912878 in #10\n",
      "Epoch #59: 5001it [11:53,  7.00it/s, env_step=295000, len=50, loss/actor=-40.209, loss/critic1=132.159, loss/critic2=131.862, n/ep=1, n/st=1, rew=-50.00]\n",
      "Epoch #59: test_reward: -44.400000 ± 14.907716, best_reward: -35.000000 ± 22.912878 in #10\n",
      "Epoch #60: 5001it [11:56,  6.98it/s, env_step=300000, len=50, loss/actor=-38.618, loss/critic1=123.628, loss/critic2=117.582, n/ep=1, n/st=1, rew=-50.00]\n",
      "Epoch #60: test_reward: -43.700000 ± 14.805742, best_reward: -35.000000 ± 22.912878 in #10\n",
      "Epoch #61: 5001it [11:57,  6.97it/s, env_step=305000, len=50, loss/actor=-43.408, loss/critic1=156.180, loss/critic2=153.521, n/ep=1, n/st=1, rew=-50.00]\n",
      "Epoch #61: test_reward: -44.100000 ± 14.942891, best_reward: -35.000000 ± 22.912878 in #10\n",
      "Epoch #62: 5001it [11:57,  6.97it/s, env_step=310000, len=50, loss/actor=-49.597, loss/critic1=198.454, loss/critic2=191.646, n/ep=1, n/st=1, rew=-50.00]\n",
      "Epoch #62: test_reward: -45.000000 ± 15.000000, best_reward: -35.000000 ± 22.912878 in #10\n",
      "Epoch #63: 5001it [12:00,  6.94it/s, env_step=315000, len=50, loss/actor=-57.786, loss/critic1=299.590, loss/critic2=303.564, n/ep=1, n/st=1, rew=-50.00]\n",
      "Epoch #63: test_reward: -48.600000 ± 2.154066, best_reward: -35.000000 ± 22.912878 in #10\n",
      "Epoch #64: 5001it [11:58,  6.96it/s, env_step=320000, len=50, loss/actor=-61.721, loss/critic1=287.305, loss/critic2=281.820, n/ep=1, n/st=1, rew=-50.00]\n",
      "Epoch #64: test_reward: -49.700000 ± 0.900000, best_reward: -35.000000 ± 22.912878 in #10\n",
      "Epoch #65: 5001it [11:55,  6.99it/s, env_step=325000, len=50, loss/actor=-65.048, loss/critic1=379.071, loss/critic2=366.456, n/ep=1, n/st=1, rew=-50.00]\n",
      "Epoch #65: test_reward: -44.700000 ± 14.926821, best_reward: -35.000000 ± 22.912878 in #10\n",
      "Epoch #66: 5001it [11:58,  6.96it/s, env_step=330000, len=50, loss/actor=-71.776, loss/critic1=325.295, loss/critic2=322.050, n/ep=1, n/st=1, rew=-50.00]\n",
      "Epoch #66: test_reward: -49.500000 ± 1.500000, best_reward: -35.000000 ± 22.912878 in #10\n",
      "Epoch #67: 5001it [11:55,  6.99it/s, env_step=335000, len=50, loss/actor=-78.774, loss/critic1=446.688, loss/critic2=440.476, n/ep=1, n/st=1, rew=-50.00]\n",
      "Epoch #67: test_reward: -50.000000 ± 0.000000, best_reward: -35.000000 ± 22.912878 in #10\n",
      "Epoch #68: 5001it [11:55,  6.99it/s, env_step=340000, len=50, loss/actor=-81.309, loss/critic1=458.075, loss/critic2=456.131, n/ep=1, n/st=1, rew=-50.00]\n",
      "Epoch #68: test_reward: -50.000000 ± 0.000000, best_reward: -35.000000 ± 22.912878 in #10\n",
      "Epoch #69: 5001it [11:53,  7.01it/s, env_step=345000, len=50, loss/actor=-77.781, loss/critic1=404.061, loss/critic2=407.177, n/ep=1, n/st=1, rew=-50.00]\n",
      "Epoch #69: test_reward: -50.000000 ± 0.000000, best_reward: -35.000000 ± 22.912878 in #10\n",
      "Epoch #70: 5001it [11:55,  6.99it/s, env_step=350000, len=50, loss/actor=-77.744, loss/critic1=519.954, loss/critic2=515.458, n/ep=1, n/st=1, rew=-50.00]\n",
      "Epoch #70: test_reward: -46.300000 ± 11.100000, best_reward: -35.000000 ± 22.912878 in #10\n",
      "Epoch #71: 5001it [11:56,  6.98it/s, env_step=355000, len=50, loss/actor=-80.467, loss/critic1=554.880, loss/critic2=569.065, n/ep=1, n/st=1, rew=-50.00]\n",
      "Epoch #71: test_reward: -50.000000 ± 0.000000, best_reward: -35.000000 ± 22.912878 in #10\n",
      "Epoch #72: 5001it [11:55,  6.98it/s, env_step=360000, len=50, loss/actor=-88.776, loss/critic1=586.012, loss/critic2=576.123, n/ep=1, n/st=1, rew=-46.00]\n",
      "Epoch #72: test_reward: -49.800000 ± 0.600000, best_reward: -35.000000 ± 22.912878 in #10\n",
      "Epoch #73: 5001it [11:58,  6.96it/s, env_step=365000, len=50, loss/actor=-112.098, loss/critic1=810.110, loss/critic2=814.593, n/ep=1, n/st=1, rew=-50.00]\n",
      "Epoch #73: test_reward: -50.000000 ± 0.000000, best_reward: -35.000000 ± 22.912878 in #10\n",
      "Epoch #74: 5001it [11:58,  6.96it/s, env_step=370000, len=50, loss/actor=-125.750, loss/critic1=963.111, loss/critic2=950.120, n/ep=1, n/st=1, rew=-50.00]\n",
      "Epoch #74: test_reward: -44.700000 ± 14.926821, best_reward: -35.000000 ± 22.912878 in #10\n",
      "Epoch #75: 5001it [12:01,  6.93it/s, env_step=375000, len=50, loss/actor=-123.324, loss/critic1=783.080, loss/critic2=767.851, n/ep=1, n/st=1, rew=-50.00]\n",
      "Epoch #75: test_reward: -45.700000 ± 12.900000, best_reward: -35.000000 ± 22.912878 in #10\n",
      "Epoch #76: 5001it [12:00,  6.94it/s, env_step=380000, len=50, loss/actor=-108.550, loss/critic1=590.365, loss/critic2=578.339, n/ep=1, n/st=1, rew=-50.00]\n",
      "Epoch #76: test_reward: -48.900000 ± 3.300000, best_reward: -35.000000 ± 22.912878 in #10\n",
      "Epoch #77: 5001it [11:59,  6.95it/s, env_step=385000, len=50, loss/actor=-97.729, loss/critic1=543.229, loss/critic2=528.336, n/ep=1, n/st=1, rew=-50.00]\n",
      "Epoch #77: test_reward: -50.000000 ± 0.000000, best_reward: -35.000000 ± 22.912878 in #10\n",
      "Epoch #78: 5001it [12:03,  6.91it/s, env_step=390000, len=50, loss/actor=-99.315, loss/critic1=610.676, loss/critic2=597.790, n/ep=1, n/st=1, rew=-50.00]\n",
      "Epoch #78: test_reward: -50.000000 ± 0.000000, best_reward: -35.000000 ± 22.912878 in #10\n",
      "Epoch #79: 5001it [12:01,  6.93it/s, env_step=395000, len=50, loss/actor=-103.017, loss/critic1=573.010, loss/critic2=557.990, n/ep=1, n/st=1, rew=-50.00]\n",
      "Epoch #79: test_reward: -46.700000 ± 9.900000, best_reward: -35.000000 ± 22.912878 in #10\n",
      "Epoch #80: 5001it [11:59,  6.95it/s, env_step=400000, len=50, loss/actor=-111.782, loss/critic1=800.207, loss/critic2=765.749, n/ep=1, n/st=1, rew=-50.00]\n",
      "Epoch #80: test_reward: -45.200000 ± 14.400000, best_reward: -35.000000 ± 22.912878 in #10\n",
      "Epoch #81: 5001it [12:01,  6.93it/s, env_step=405000, len=50, loss/actor=-122.484, loss/critic1=826.897, loss/critic2=808.467, n/ep=1, n/st=1, rew=-50.00]\n",
      "Epoch #81: test_reward: -49.800000 ± 0.600000, best_reward: -35.000000 ± 22.912878 in #10\n",
      "Epoch #82: 5001it [12:03,  6.92it/s, env_step=410000, len=50, loss/actor=-124.566, loss/critic1=838.142, loss/critic2=816.241, n/ep=1, n/st=1, rew=-50.00]\n",
      "Epoch #82: test_reward: -42.500000 ± 16.007811, best_reward: -35.000000 ± 22.912878 in #10\n",
      "Epoch #83: 5001it [12:06,  6.88it/s, env_step=415000, len=50, loss/actor=-137.662, loss/critic1=1017.868, loss/critic2=982.270, n/ep=1, n/st=1, rew=-50.00]\n",
      "Epoch #83: test_reward: -49.200000 ± 2.400000, best_reward: -35.000000 ± 22.912878 in #10\n",
      "Epoch #84: 5001it [12:01,  6.93it/s, env_step=420000, len=50, loss/actor=-167.736, loss/critic1=1556.123, loss/critic2=1494.549, n/ep=1, n/st=1, rew=-50.00]\n",
      "Epoch #84: test_reward: -45.000000 ± 15.000000, best_reward: -35.000000 ± 22.912878 in #10\n",
      "Epoch #85: 5001it [12:01,  6.93it/s, env_step=425000, len=50, loss/actor=-191.071, loss/critic1=2199.816, loss/critic2=2153.107, n/ep=1, n/st=1, rew=-50.00]\n",
      "Epoch #85: test_reward: -50.000000 ± 0.000000, best_reward: -35.000000 ± 22.912878 in #10\n",
      "Epoch #86: 5001it [11:59,  6.95it/s, env_step=430000, len=50, loss/actor=-212.165, loss/critic1=2260.588, loss/critic2=2258.579, n/ep=1, n/st=1, rew=-50.00]\n",
      "Epoch #86: test_reward: -50.000000 ± 0.000000, best_reward: -35.000000 ± 22.912878 in #10\n",
      "Epoch #87: 5001it [12:01,  6.93it/s, env_step=435000, len=50, loss/actor=-245.197, loss/critic1=2808.269, loss/critic2=2757.426, n/ep=1, n/st=1, rew=-50.00]\n",
      "Epoch #87: test_reward: -40.000000 ± 20.000000, best_reward: -35.000000 ± 22.912878 in #10\n",
      "Epoch #88: 5001it [12:02,  6.92it/s, env_step=440000, len=50, loss/actor=-290.210, loss/critic1=3216.924, loss/critic2=3162.029, n/ep=1, n/st=1, rew=-50.00]\n",
      "Epoch #88: test_reward: -35.000000 ± 22.912878, best_reward: -35.000000 ± 22.912878 in #10\n",
      "Epoch #89: 5001it [12:01,  6.93it/s, env_step=445000, len=50, loss/actor=-363.735, loss/critic1=6319.568, loss/critic2=6192.531, n/ep=1, n/st=1, rew=-50.00]\n",
      "Epoch #89: test_reward: -50.000000 ± 0.000000, best_reward: -35.000000 ± 22.912878 in #10\n",
      "Epoch #90: 5001it [11:57,  6.97it/s, env_step=450000, len=50, loss/actor=-463.546, loss/critic1=8139.320, loss/critic2=7941.329, n/ep=1, n/st=1, rew=-50.00]\n",
      "Epoch #90: test_reward: -49.600000 ± 1.200000, best_reward: -35.000000 ± 22.912878 in #10\n",
      "Epoch #91: 5001it [11:55,  6.99it/s, env_step=455000, len=50, loss/actor=-482.739, loss/critic1=7632.430, loss/critic2=7568.536, n/ep=1, n/st=1, rew=-50.00]\n",
      "Epoch #91: test_reward: -48.400000 ± 3.666061, best_reward: -35.000000 ± 22.912878 in #10\n",
      "Epoch #92: 5001it [11:57,  6.97it/s, env_step=460000, len=50, loss/actor=-443.558, loss/critic1=6498.454, loss/critic2=6419.962, n/ep=1, n/st=1, rew=-50.00]\n",
      "Epoch #92: test_reward: -49.500000 ± 1.500000, best_reward: -35.000000 ± 22.912878 in #10\n",
      "Epoch #93: 5001it [11:56,  6.98it/s, env_step=465000, len=50, loss/actor=-402.362, loss/critic1=5559.572, loss/critic2=5435.612, n/ep=1, n/st=1, rew=-50.00]\n",
      "Epoch #93: test_reward: -49.500000 ± 1.500000, best_reward: -35.000000 ± 22.912878 in #10\n",
      "Epoch #94: 5001it [11:57,  6.97it/s, env_step=470000, len=50, loss/actor=-363.670, loss/critic1=5109.762, loss/critic2=5108.349, n/ep=1, n/st=1, rew=-50.00]\n",
      "Epoch #94: test_reward: -45.000000 ± 15.000000, best_reward: -35.000000 ± 22.912878 in #10\n",
      "Epoch #95: 5001it [11:54,  7.00it/s, env_step=475000, len=50, loss/actor=-366.367, loss/critic1=6828.295, loss/critic2=6713.883, n/ep=1, n/st=1, rew=-50.00]\n",
      "Epoch #95: test_reward: -50.000000 ± 0.000000, best_reward: -35.000000 ± 22.912878 in #10\n",
      "Epoch #96: 5001it [11:56,  6.98it/s, env_step=480000, len=50, loss/actor=-376.758, loss/critic1=7306.508, loss/critic2=7275.293, n/ep=1, n/st=1, rew=-50.00]\n",
      "Epoch #96: test_reward: -44.800000 ± 14.945233, best_reward: -35.000000 ± 22.912878 in #10\n",
      "Epoch #97: 5001it [11:53,  7.01it/s, env_step=485000, len=50, loss/actor=-384.562, loss/critic1=6219.109, loss/critic2=6180.923, n/ep=1, n/st=1, rew=-42.00]\n",
      "Epoch #97: test_reward: -50.000000 ± 0.000000, best_reward: -35.000000 ± 22.912878 in #10\n",
      "Epoch #98: 5001it [11:55,  6.99it/s, env_step=490000, len=50, loss/actor=-382.214, loss/critic1=7201.405, loss/critic2=7021.122, n/ep=1, n/st=1, rew=-50.00]\n",
      "Epoch #98: test_reward: -44.500000 ± 14.319567, best_reward: -35.000000 ± 22.912878 in #10\n",
      "Epoch #99: 5001it [11:53,  7.01it/s, env_step=495000, len=50, loss/actor=-364.752, loss/critic1=5390.405, loss/critic2=5341.642, n/ep=1, n/st=1, rew=-41.00]\n",
      "Epoch #99: test_reward: -49.100000 ± 1.813836, best_reward: -35.000000 ± 22.912878 in #10\n",
      "Epoch #100: 5001it [11:52,  7.02it/s, env_step=500000, len=50, loss/actor=-328.640, loss/critic1=4412.288, loss/critic2=4386.709, n/ep=1, n/st=1, rew=-50.00]\n",
      "Epoch #100: test_reward: -45.000000 ± 15.000000, best_reward: -35.000000 ± 22.912878 in #10\n",
      "{'best_result': '-35.00 ± 22.91',\n",
      " 'best_reward': -35.0,\n",
      " 'duration': '74470.48s',\n",
      " 'test_episode': 1010,\n",
      " 'test_speed': '253.69 step/s',\n",
      " 'test_step': 50500,\n",
      " 'test_time': '199.07s',\n",
      " 'train_episode': 10000,\n",
      " 'train_speed': '6.73 step/s',\n",
      " 'train_step': 500000,\n",
      " 'train_time/collector': '7682.37s',\n",
      " 'train_time/model': '66589.05s'}\n",
      "Final reward: -50.0, length: 50.0\n"
     ]
    }
   ],
   "source": [
    "!python fetch_her_sac.py --task FetchPush-v2 \\\n",
    "      --hidden-sizes 256 256 256 --actor-lr 1e-4 --critic-lr 1e-4 \\\n",
    "      --gamma 0.98 --epoch 100 --her-horizon 50"
   ]
  }
 ],
 "metadata": {
  "colab": {
   "provenance": []
  },
  "kernelspec": {
   "display_name": "Python 3",
   "name": "python3"
  },
  "language_info": {
   "name": "python"
  }
 },
 "nbformat": 4,
 "nbformat_minor": 0
}
