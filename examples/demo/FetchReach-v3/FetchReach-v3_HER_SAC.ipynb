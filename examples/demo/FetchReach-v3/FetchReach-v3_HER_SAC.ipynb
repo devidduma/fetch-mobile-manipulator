{
 "cells": [
  {
   "cell_type": "code",
   "execution_count": 1,
   "metadata": {
    "colab": {
     "base_uri": "https://localhost:8080/"
    },
    "executionInfo": {
     "elapsed": 1412,
     "status": "ok",
     "timestamp": 1676218049406,
     "user": {
      "displayName": "Devid Duma",
      "userId": "13827092886051082382"
     },
     "user_tz": -60
    },
    "id": "IO0ADjYzh7T1",
    "outputId": "35620778-8094-42de-f1e2-1c12a98f7daa"
   },
   "outputs": [
    {
     "name": "stdout",
     "output_type": "stream",
     "text": [
      "\u001B[31mERROR: Could not open requirements file: [Errno 2] No such file or directory: 'requirements.txt'\u001B[0m\u001B[31m\n",
      "\u001B[0m"
     ]
    }
   ],
   "source": [
    "!pip install -r requirements.txt --quiet"
   ]
  },
  {
   "cell_type": "code",
   "execution_count": 2,
   "metadata": {
    "colab": {
     "background_save": true,
     "base_uri": "https://localhost:8080/"
    },
    "executionInfo": {
     "elapsed": 10574,
     "status": "ok",
     "timestamp": 1676218059975,
     "user": {
      "displayName": "Devid Duma",
      "userId": "13827092886051082382"
     },
     "user_tz": -60
    },
    "id": "wfuzeq7BitX9"
   },
   "outputs": [
    {
     "name": "stdout",
     "output_type": "stream",
     "text": [
      "  Preparing metadata (setup.py) ... \u001B[?25l\u001B[?25hdone\n",
      "\u001B[2K     \u001B[90m━━━━━━━━━━━━━━━━━━━━━━━━━━━━━━━━━━━━━━\u001B[0m \u001B[32m883.7/883.7 KB\u001B[0m \u001B[31m13.4 MB/s\u001B[0m eta \u001B[36m0:00:00\u001B[0m\n",
      "\u001B[?25h  Building wheel for tianshou (setup.py) ... \u001B[?25l\u001B[?25hdone\n"
     ]
    }
   ],
   "source": [
    "!pip install git+https://github.com/Markus28/tianshou.git@gymnasium_integration#egg=tianshou --quiet"
   ]
  },
  {
   "cell_type": "code",
   "execution_count": null,
   "metadata": {
    "id": "UyOq9We-I6ay"
   },
   "outputs": [],
   "source": [
    "!apt-get -q install -y \\\n",
    "    libgl1-mesa-dev \\\n",
    "    libgl1-mesa-glx \\\n",
    "    libglew-dev \\\n",
    "    libosmesa6-dev \\\n",
    "    software-properties-common\n",
    "\n",
    "!apt-get -q install -y patchelf"
   ]
  },
  {
   "cell_type": "code",
   "execution_count": null,
   "metadata": {
    "id": "UbOlVWv0157i"
   },
   "outputs": [],
   "source": [
    "!pip install envpool wandb pettingzoo gymnasium-robotics --quiet"
   ]
  },
  {
   "cell_type": "code",
   "execution_count": null,
   "metadata": {
    "id": "fCkkosakI_bC"
   },
   "outputs": [],
   "source": [
    "!pip install free-mujoco-py --quiet"
   ]
  },
  {
   "cell_type": "code",
   "execution_count": null,
   "metadata": {
    "id": "7TZHDrP1JTUj"
   },
   "outputs": [],
   "source": [
    "import mujoco_py"
   ]
  },
  {
   "cell_type": "code",
   "execution_count": null,
   "metadata": {
    "colab": {
     "background_save": true
    },
    "id": "Jtbz6g5yj3FL"
   },
   "outputs": [
    {
     "name": "stdout",
     "output_type": "stream",
     "text": [
      "2023-02-12 16:14:33.790971: W tensorflow/compiler/xla/stream_executor/platform/default/dso_loader.cc:64] Could not load dynamic library 'libnvinfer.so.7'; dlerror: libnvinfer.so.7: cannot open shared object file: No such file or directory; LD_LIBRARY_PATH: /usr/local/lib/python3.8/dist-packages/mujoco_py/binaries/linux/mujoco210/bin\n",
      "2023-02-12 16:14:33.791116: W tensorflow/compiler/xla/stream_executor/platform/default/dso_loader.cc:64] Could not load dynamic library 'libnvinfer_plugin.so.7'; dlerror: libnvinfer_plugin.so.7: cannot open shared object file: No such file or directory; LD_LIBRARY_PATH: /usr/local/lib/python3.8/dist-packages/mujoco_py/binaries/linux/mujoco210/bin\n",
      "2023-02-12 16:14:33.791137: W tensorflow/compiler/tf2tensorrt/utils/py_utils.cc:38] TF-TRT Warning: Cannot dlopen some TensorRT libraries. If you would like to use Nvidia GPU with TensorRT, please make sure the missing libraries mentioned above are installed properly.\n",
      "Observations shape: {'observation': (10,), 'achieved_goal': (3,), 'desired_goal': (3,)}\n",
      "Actions shape: (4,)\n",
      "Action range: -1.0 1.0\n",
      "Epoch #1: 5001it [07:42, 10.80it/s, env_step=5000, len=50, loss/actor=-1.215, loss/critic1=0.292, loss/critic2=0.290, n/ep=1, n/st=1, rew=-4.00]\n",
      "Epoch #1: test_reward: -2.200000 ± 0.748331, best_reward: -2.200000 ± 0.748331 in #1\n",
      "Epoch #2: 5001it [08:02, 10.37it/s, env_step=10000, len=50, loss/actor=-3.949, loss/critic1=0.591, loss/critic2=0.586, n/ep=1, n/st=1, rew=-3.00]              \n",
      "Epoch #2: test_reward: -2.200000 ± 0.871780, best_reward: -2.200000 ± 0.748331 in #1\n",
      "Epoch #3: 5001it [08:06, 10.27it/s, env_step=15000, len=50, loss/actor=-5.313, loss/critic1=0.891, loss/critic2=0.891, n/ep=1, n/st=1, rew=-4.00]\n",
      "Epoch #3: test_reward: -2.400000 ± 1.200000, best_reward: -2.200000 ± 0.748331 in #1\n",
      "Epoch #4: 5001it [08:10, 10.20it/s, env_step=20000, len=50, loss/actor=-6.151, loss/critic1=1.019, loss/critic2=1.019, n/ep=1, n/st=1, rew=-5.00]\n",
      "Epoch #4: test_reward: -10.200000 ± 15.432433, best_reward: -2.200000 ± 0.748331 in #1\n",
      "Epoch #5: 5001it [08:15, 10.09it/s, env_step=25000, len=50, loss/actor=-6.747, loss/critic1=1.226, loss/critic2=1.221, n/ep=1, n/st=1, rew=-7.00]\n",
      "Epoch #5: test_reward: -2.500000 ± 1.024695, best_reward: -2.200000 ± 0.748331 in #1\n",
      "Epoch #6: 5001it [08:13, 10.14it/s, env_step=30000, len=50, loss/actor=-7.201, loss/critic1=1.352, loss/critic2=1.346, n/ep=1, n/st=1, rew=-4.00]\n",
      "Epoch #6: test_reward: -2.400000 ± 1.019804, best_reward: -2.200000 ± 0.748331 in #1\n",
      "Epoch #7: 5001it [08:07, 10.25it/s, env_step=35000, len=50, loss/actor=-7.521, loss/critic1=1.493, loss/critic2=1.486, n/ep=1, n/st=1, rew=-2.00]              \n",
      "Epoch #7: test_reward: -2.000000 ± 0.632456, best_reward: -2.000000 ± 0.632456 in #7\n",
      "Epoch #8:  11% 555/5000 [00:53<06:16, 11.81it/s, env_step=35555, len=50, loss/actor=-7.564, loss/critic1=1.360, loss/critic2=1.358, n/ep=0, n/st=1, rew=-7.00]"
     ]
    }
   ],
   "source": [
    "!python fetch_her_sac.py --task FetchReach-v3 \\\n",
    "      --hidden-sizes 256 256 --actor-lr 1e-3 --critic-lr 3e-3 \\\n",
    "      --gamma 0.99 --epoch 10 --step-per-epoch 5000"
   ]
  }
 ],
 "metadata": {
  "colab": {
   "authorship_tag": "ABX9TyPQGuekwyVO4ohpcEn2muti",
   "name": "",
   "version": ""
  },
  "kernelspec": {
   "display_name": "Python 3",
   "name": "python3"
  },
  "language_info": {
   "name": "python"
  }
 },
 "nbformat": 4,
 "nbformat_minor": 0
}
