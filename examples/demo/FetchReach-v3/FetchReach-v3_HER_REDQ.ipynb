{
 "cells": [
  {
   "cell_type": "code",
   "execution_count": 1,
   "metadata": {
    "colab": {
     "base_uri": "https://localhost:8080/"
    },
    "executionInfo": {
     "elapsed": 1093,
     "status": "ok",
     "timestamp": 1676218002071,
     "user": {
      "displayName": "Devid Duma",
      "userId": "13827092886051082382"
     },
     "user_tz": -60
    },
    "id": "IO0ADjYzh7T1",
    "outputId": "fd3c2b42-5579-42e6-e262-148e870db90b"
   },
   "outputs": [
    {
     "name": "stdout",
     "output_type": "stream",
     "text": [
      "\u001B[31mERROR: Could not open requirements file: [Errno 2] No such file or directory: 'requirements.txt'\u001B[0m\u001B[31m\n",
      "\u001B[0m"
     ]
    }
   ],
   "source": [
    "!pip install -r requirements.txt --quiet"
   ]
  },
  {
   "cell_type": "code",
   "execution_count": 2,
   "metadata": {
    "colab": {
     "base_uri": "https://localhost:8080/"
    },
    "executionInfo": {
     "elapsed": 11100,
     "status": "ok",
     "timestamp": 1676218013165,
     "user": {
      "displayName": "Devid Duma",
      "userId": "13827092886051082382"
     },
     "user_tz": -60
    },
    "id": "wfuzeq7BitX9",
    "outputId": "fcc94571-98af-4709-ce61-13967c76465a"
   },
   "outputs": [
    {
     "name": "stdout",
     "output_type": "stream",
     "text": [
      "  Preparing metadata (setup.py) ... \u001B[?25l\u001B[?25hdone\n",
      "\u001B[2K     \u001B[90m━━━━━━━━━━━━━━━━━━━━━━━━━━━━━━━━━━━━━━\u001B[0m \u001B[32m883.7/883.7 KB\u001B[0m \u001B[31m11.3 MB/s\u001B[0m eta \u001B[36m0:00:00\u001B[0m\n",
      "\u001B[?25h  Building wheel for tianshou (setup.py) ... \u001B[?25l\u001B[?25hdone\n"
     ]
    }
   ],
   "source": [
    "!pip install git+https://github.com/Markus28/tianshou.git@gymnasium_integration#egg=tianshou --quiet"
   ]
  },
  {
   "cell_type": "code",
   "execution_count": 3,
   "metadata": {
    "colab": {
     "base_uri": "https://localhost:8080/"
    },
    "executionInfo": {
     "elapsed": 21095,
     "status": "ok",
     "timestamp": 1676218034251,
     "user": {
      "displayName": "Devid Duma",
      "userId": "13827092886051082382"
     },
     "user_tz": -60
    },
    "id": "UyOq9We-I6ay",
    "outputId": "26d1fca7-fcac-4b0a-ff4e-952aac994e6d"
   },
   "outputs": [
    {
     "name": "stdout",
     "output_type": "stream",
     "text": [
      "Reading package lists...\n",
      "Building dependency tree...\n",
      "Reading state information...\n",
      "software-properties-common is already the newest version (0.99.9.10).\n",
      "The following package was automatically installed and is no longer required:\n",
      "  libnvidia-common-510\n",
      "Use 'apt autoremove' to remove it.\n",
      "The following additional packages will be installed:\n",
      "  libgles-dev libgles1 libglew2.1 libglvnd-dev libopengl-dev libosmesa6\n",
      "Suggested packages:\n",
      "  glew-utils\n",
      "The following NEW packages will be installed:\n",
      "  libgl1-mesa-dev libgl1-mesa-glx libgles-dev libgles1 libglew-dev libglew2.1\n",
      "  libglvnd-dev libopengl-dev libosmesa6 libosmesa6-dev\n",
      "0 upgraded, 10 newly installed, 0 to remove and 21 not upgraded.\n",
      "Need to get 3,438 kB of archives.\n",
      "After this operation, 17.1 MB of additional disk space will be used.\n",
      "Get:1 http://archive.ubuntu.com/ubuntu focal-updates/main amd64 libgl1-mesa-glx amd64 21.2.6-0ubuntu0.1~20.04.2 [5,536 B]\n",
      "Get:2 http://archive.ubuntu.com/ubuntu focal-updates/main amd64 libgles1 amd64 1.3.2-1~ubuntu0.20.04.2 [10.3 kB]\n",
      "Get:3 http://archive.ubuntu.com/ubuntu focal-updates/main amd64 libgles-dev amd64 1.3.2-1~ubuntu0.20.04.2 [47.9 kB]\n",
      "Get:4 http://archive.ubuntu.com/ubuntu focal-updates/main amd64 libopengl-dev amd64 1.3.2-1~ubuntu0.20.04.2 [3,584 B]\n",
      "Get:5 http://archive.ubuntu.com/ubuntu focal-updates/main amd64 libglvnd-dev amd64 1.3.2-1~ubuntu0.20.04.2 [11.6 kB]\n",
      "Get:6 http://archive.ubuntu.com/ubuntu focal-updates/main amd64 libgl1-mesa-dev amd64 21.2.6-0ubuntu0.1~20.04.2 [6,420 B]\n",
      "Get:7 http://archive.ubuntu.com/ubuntu focal/universe amd64 libglew2.1 amd64 2.1.0-4 [155 kB]\n",
      "Get:8 http://archive.ubuntu.com/ubuntu focal/universe amd64 libglew-dev amd64 2.1.0-4 [134 kB]\n",
      "Get:9 http://archive.ubuntu.com/ubuntu focal-updates/main amd64 libosmesa6 amd64 21.2.6-0ubuntu0.1~20.04.2 [3,054 kB]\n",
      "Get:10 http://archive.ubuntu.com/ubuntu focal-updates/main amd64 libosmesa6-dev amd64 21.2.6-0ubuntu0.1~20.04.2 [8,844 B]\n",
      "Fetched 3,438 kB in 1s (3,392 kB/s)\n",
      "Selecting previously unselected package libgl1-mesa-glx:amd64.\n",
      "(Reading database ... 128048 files and directories currently installed.)\n",
      "Preparing to unpack .../0-libgl1-mesa-glx_21.2.6-0ubuntu0.1~20.04.2_amd64.deb ...\n",
      "Unpacking libgl1-mesa-glx:amd64 (21.2.6-0ubuntu0.1~20.04.2) ...\n",
      "Selecting previously unselected package libgles1:amd64.\n",
      "Preparing to unpack .../1-libgles1_1.3.2-1~ubuntu0.20.04.2_amd64.deb ...\n",
      "Unpacking libgles1:amd64 (1.3.2-1~ubuntu0.20.04.2) ...\n",
      "Selecting previously unselected package libgles-dev:amd64.\n",
      "Preparing to unpack .../2-libgles-dev_1.3.2-1~ubuntu0.20.04.2_amd64.deb ...\n",
      "Unpacking libgles-dev:amd64 (1.3.2-1~ubuntu0.20.04.2) ...\n",
      "Selecting previously unselected package libopengl-dev:amd64.\n",
      "Preparing to unpack .../3-libopengl-dev_1.3.2-1~ubuntu0.20.04.2_amd64.deb ...\n",
      "Unpacking libopengl-dev:amd64 (1.3.2-1~ubuntu0.20.04.2) ...\n",
      "Selecting previously unselected package libglvnd-dev:amd64.\n",
      "Preparing to unpack .../4-libglvnd-dev_1.3.2-1~ubuntu0.20.04.2_amd64.deb ...\n",
      "Unpacking libglvnd-dev:amd64 (1.3.2-1~ubuntu0.20.04.2) ...\n",
      "Selecting previously unselected package libgl1-mesa-dev:amd64.\n",
      "Preparing to unpack .../5-libgl1-mesa-dev_21.2.6-0ubuntu0.1~20.04.2_amd64.deb ...\n",
      "Unpacking libgl1-mesa-dev:amd64 (21.2.6-0ubuntu0.1~20.04.2) ...\n",
      "Selecting previously unselected package libglew2.1:amd64.\n",
      "Preparing to unpack .../6-libglew2.1_2.1.0-4_amd64.deb ...\n",
      "Unpacking libglew2.1:amd64 (2.1.0-4) ...\n",
      "Selecting previously unselected package libglew-dev:amd64.\n",
      "Preparing to unpack .../7-libglew-dev_2.1.0-4_amd64.deb ...\n",
      "Unpacking libglew-dev:amd64 (2.1.0-4) ...\n",
      "Selecting previously unselected package libosmesa6:amd64.\n",
      "Preparing to unpack .../8-libosmesa6_21.2.6-0ubuntu0.1~20.04.2_amd64.deb ...\n",
      "Unpacking libosmesa6:amd64 (21.2.6-0ubuntu0.1~20.04.2) ...\n",
      "Selecting previously unselected package libosmesa6-dev:amd64.\n",
      "Preparing to unpack .../9-libosmesa6-dev_21.2.6-0ubuntu0.1~20.04.2_amd64.deb ...\n",
      "Unpacking libosmesa6-dev:amd64 (21.2.6-0ubuntu0.1~20.04.2) ...\n",
      "Setting up libgles1:amd64 (1.3.2-1~ubuntu0.20.04.2) ...\n",
      "Setting up libgl1-mesa-glx:amd64 (21.2.6-0ubuntu0.1~20.04.2) ...\n",
      "Setting up libglew2.1:amd64 (2.1.0-4) ...\n",
      "Setting up libopengl-dev:amd64 (1.3.2-1~ubuntu0.20.04.2) ...\n",
      "Setting up libgles-dev:amd64 (1.3.2-1~ubuntu0.20.04.2) ...\n",
      "Setting up libosmesa6:amd64 (21.2.6-0ubuntu0.1~20.04.2) ...\n",
      "Setting up libglvnd-dev:amd64 (1.3.2-1~ubuntu0.20.04.2) ...\n",
      "Setting up libglew-dev:amd64 (2.1.0-4) ...\n",
      "Setting up libosmesa6-dev:amd64 (21.2.6-0ubuntu0.1~20.04.2) ...\n",
      "Setting up libgl1-mesa-dev:amd64 (21.2.6-0ubuntu0.1~20.04.2) ...\n",
      "Processing triggers for libc-bin (2.31-0ubuntu9.9) ...\n",
      "Reading package lists...\n",
      "Building dependency tree...\n",
      "Reading state information...\n",
      "The following package was automatically installed and is no longer required:\n",
      "  libnvidia-common-510\n",
      "Use 'apt autoremove' to remove it.\n",
      "The following NEW packages will be installed:\n",
      "  patchelf\n",
      "0 upgraded, 1 newly installed, 0 to remove and 21 not upgraded.\n",
      "Need to get 53.4 kB of archives.\n",
      "After this operation, 153 kB of additional disk space will be used.\n",
      "Get:1 http://archive.ubuntu.com/ubuntu focal/universe amd64 patchelf amd64 0.10-2build1 [53.4 kB]\n",
      "Fetched 53.4 kB in 0s (132 kB/s)\n",
      "Selecting previously unselected package patchelf.\n",
      "(Reading database ... 128142 files and directories currently installed.)\n",
      "Preparing to unpack .../patchelf_0.10-2build1_amd64.deb ...\n",
      "Unpacking patchelf (0.10-2build1) ...\n",
      "Setting up patchelf (0.10-2build1) ...\n",
      "Processing triggers for man-db (2.9.1-1) ...\n"
     ]
    }
   ],
   "source": [
    "!apt-get -q install -y \\\n",
    "    libgl1-mesa-dev \\\n",
    "    libgl1-mesa-glx \\\n",
    "    libglew-dev \\\n",
    "    libosmesa6-dev \\\n",
    "    software-properties-common\n",
    "\n",
    "!apt-get -q install -y patchelf"
   ]
  },
  {
   "cell_type": "code",
   "execution_count": 4,
   "metadata": {
    "colab": {
     "base_uri": "https://localhost:8080/"
    },
    "executionInfo": {
     "elapsed": 21798,
     "status": "ok",
     "timestamp": 1676218056042,
     "user": {
      "displayName": "Devid Duma",
      "userId": "13827092886051082382"
     },
     "user_tz": -60
    },
    "id": "UbOlVWv0157i",
    "outputId": "cf3835c9-9457-45c6-8174-ed170894e3fa"
   },
   "outputs": [
    {
     "name": "stdout",
     "output_type": "stream",
     "text": [
      "\u001B[2K     \u001B[90m━━━━━━━━━━━━━━━━━━━━━━━━━━━━━━━━━━━━━━━━\u001B[0m \u001B[32m74.7/74.7 MB\u001B[0m \u001B[31m10.2 MB/s\u001B[0m eta \u001B[36m0:00:00\u001B[0m\n",
      "\u001B[2K     \u001B[90m━━━━━━━━━━━━━━━━━━━━━━━━━━━━━━━━━━━━━━━━\u001B[0m \u001B[32m2.0/2.0 MB\u001B[0m \u001B[31m63.4 MB/s\u001B[0m eta \u001B[36m0:00:00\u001B[0m\n",
      "\u001B[2K     \u001B[90m━━━━━━━━━━━━━━━━━━━━━━━━━━━━━━━━━━━━━━\u001B[0m \u001B[32m816.1/816.1 KB\u001B[0m \u001B[31m51.2 MB/s\u001B[0m eta \u001B[36m0:00:00\u001B[0m\n",
      "\u001B[2K     \u001B[90m━━━━━━━━━━━━━━━━━━━━━━━━━━━━━━━━━━━━━━━━\u001B[0m \u001B[32m27.9/27.9 MB\u001B[0m \u001B[31m26.6 MB/s\u001B[0m eta \u001B[36m0:00:00\u001B[0m\n",
      "\u001B[2K     \u001B[90m━━━━━━━━━━━━━━━━━━━━━━━━━━━━━━━━━━━━━━━━\u001B[0m \u001B[32m61.2/61.2 KB\u001B[0m \u001B[31m2.8 MB/s\u001B[0m eta \u001B[36m0:00:00\u001B[0m\n",
      "\u001B[2K     \u001B[90m━━━━━━━━━━━━━━━━━━━━━━━━━━━━━━━━━━━━━━━━\u001B[0m \u001B[32m3.5/3.5 MB\u001B[0m \u001B[31m81.7 MB/s\u001B[0m eta \u001B[36m0:00:00\u001B[0m\n",
      "\u001B[?25h  Preparing metadata (setup.py) ... \u001B[?25l\u001B[?25hdone\n",
      "\u001B[2K     \u001B[90m━━━━━━━━━━━━━━━━━━━━━━━━━━━━━━━━━━━━━━\u001B[0m \u001B[32m181.3/181.3 KB\u001B[0m \u001B[31m16.5 MB/s\u001B[0m eta \u001B[36m0:00:00\u001B[0m\n",
      "\u001B[2K     \u001B[90m━━━━━━━━━━━━━━━━━━━━━━━━━━━━━━━━━━━━━━\u001B[0m \u001B[32m184.0/184.0 KB\u001B[0m \u001B[31m14.3 MB/s\u001B[0m eta \u001B[36m0:00:00\u001B[0m\n",
      "\u001B[2K     \u001B[90m━━━━━━━━━━━━━━━━━━━━━━━━━━━━━━━━━━━━━━━━\u001B[0m \u001B[32m4.2/4.2 MB\u001B[0m \u001B[31m64.1 MB/s\u001B[0m eta \u001B[36m0:00:00\u001B[0m\n",
      "\u001B[2K     \u001B[90m━━━━━━━━━━━━━━━━━━━━━━━━━━━━━━━━━━━━━━━━\u001B[0m \u001B[32m62.7/62.7 KB\u001B[0m \u001B[31m5.5 MB/s\u001B[0m eta \u001B[36m0:00:00\u001B[0m\n",
      "\u001B[2K     \u001B[90m━━━━━━━━━━━━━━━━━━━━━━━━━━━━━━━━━━━━━━\u001B[0m \u001B[32m207.6/207.6 KB\u001B[0m \u001B[31m19.2 MB/s\u001B[0m eta \u001B[36m0:00:00\u001B[0m\n",
      "\u001B[2K     \u001B[90m━━━━━━━━━━━━━━━━━━━━━━━━━━━━━━━━━━━━━━━\u001B[0m \u001B[32m140.6/140.6 KB\u001B[0m \u001B[31m7.6 MB/s\u001B[0m eta \u001B[36m0:00:00\u001B[0m\n",
      "\u001B[2K     \u001B[90m━━━━━━━━━━━━━━━━━━━━━━━━━━━━━━━━━━━━━━━━\u001B[0m \u001B[32m61.7/61.7 KB\u001B[0m \u001B[31m3.0 MB/s\u001B[0m eta \u001B[36m0:00:00\u001B[0m\n",
      "\u001B[2K     \u001B[90m━━━━━━━━━━━━━━━━━━━━━━━━━━━━━━━━━━━━━━━\u001B[0m \u001B[32m118.6/118.6 KB\u001B[0m \u001B[31m8.9 MB/s\u001B[0m eta \u001B[36m0:00:00\u001B[0m\n",
      "\u001B[2K     \u001B[90m━━━━━━━━━━━━━━━━━━━━━━━━━━━━━━━━━━━━━━━━\u001B[0m \u001B[32m47.0/47.0 KB\u001B[0m \u001B[31m3.4 MB/s\u001B[0m eta \u001B[36m0:00:00\u001B[0m\n",
      "\u001B[2K     \u001B[90m━━━━━━━━━━━━━━━━━━━━━━━━━━━━━━━━━━━━━━━━\u001B[0m \u001B[32m88.5/88.5 KB\u001B[0m \u001B[31m8.0 MB/s\u001B[0m eta \u001B[36m0:00:00\u001B[0m\n",
      "\u001B[?25h  Preparing metadata (setup.py) ... \u001B[?25l\u001B[?25hdone\n",
      "  Building wheel for pathtools (setup.py) ... \u001B[?25l\u001B[?25hdone\n",
      "  Building wheel for bitmath (setup.py) ... \u001B[?25l\u001B[?25hdone\n"
     ]
    }
   ],
   "source": [
    "!pip install envpool wandb pettingzoo gymnasium-robotics --quiet"
   ]
  },
  {
   "cell_type": "code",
   "execution_count": 5,
   "metadata": {
    "colab": {
     "base_uri": "https://localhost:8080/"
    },
    "executionInfo": {
     "elapsed": 13510,
     "status": "ok",
     "timestamp": 1676218069540,
     "user": {
      "displayName": "Devid Duma",
      "userId": "13827092886051082382"
     },
     "user_tz": -60
    },
    "id": "fCkkosakI_bC",
    "outputId": "bfa26234-f752-475f-94bf-ec8864c0ce73"
   },
   "outputs": [
    {
     "name": "stdout",
     "output_type": "stream",
     "text": [
      "\u001B[2K     \u001B[90m━━━━━━━━━━━━━━━━━━━━━━━━━━━━━━━━━━━━━━━━\u001B[0m \u001B[32m14.1/14.1 MB\u001B[0m \u001B[31m18.5 MB/s\u001B[0m eta \u001B[36m0:00:00\u001B[0m\n",
      "\u001B[2K     \u001B[90m━━━━━━━━━━━━━━━━━━━━━━━━━━━━━━━━━━━━━━\u001B[0m \u001B[32m203.7/203.7 KB\u001B[0m \u001B[31m15.4 MB/s\u001B[0m eta \u001B[36m0:00:00\u001B[0m\n",
      "\u001B[?25h"
     ]
    }
   ],
   "source": [
    "!pip install free-mujoco-py --quiet"
   ]
  },
  {
   "cell_type": "code",
   "execution_count": 6,
   "metadata": {
    "colab": {
     "base_uri": "https://localhost:8080/"
    },
    "executionInfo": {
     "elapsed": 109366,
     "status": "ok",
     "timestamp": 1676218178893,
     "user": {
      "displayName": "Devid Duma",
      "userId": "13827092886051082382"
     },
     "user_tz": -60
    },
    "id": "7TZHDrP1JTUj",
    "outputId": "47dfd94b-39fb-440a-d4be-d376220ba592"
   },
   "outputs": [
    {
     "name": "stdout",
     "output_type": "stream",
     "text": [
      "Compiling /usr/local/lib/python3.8/dist-packages/mujoco_py/cymj.pyx because it changed.\n",
      "[1/1] Cythonizing /usr/local/lib/python3.8/dist-packages/mujoco_py/cymj.pyx\n",
      "running build_ext\n",
      "building 'mujoco_py.cymj' extension\n",
      "creating /usr/local/lib/python3.8/dist-packages/mujoco_py/generated/_pyxbld_2.0.2.13_38_linuxcpuextensionbuilder\n",
      "creating /usr/local/lib/python3.8/dist-packages/mujoco_py/generated/_pyxbld_2.0.2.13_38_linuxcpuextensionbuilder/temp.linux-x86_64-3.8\n",
      "creating /usr/local/lib/python3.8/dist-packages/mujoco_py/generated/_pyxbld_2.0.2.13_38_linuxcpuextensionbuilder/temp.linux-x86_64-3.8/usr\n",
      "creating /usr/local/lib/python3.8/dist-packages/mujoco_py/generated/_pyxbld_2.0.2.13_38_linuxcpuextensionbuilder/temp.linux-x86_64-3.8/usr/local\n",
      "creating /usr/local/lib/python3.8/dist-packages/mujoco_py/generated/_pyxbld_2.0.2.13_38_linuxcpuextensionbuilder/temp.linux-x86_64-3.8/usr/local/lib\n",
      "creating /usr/local/lib/python3.8/dist-packages/mujoco_py/generated/_pyxbld_2.0.2.13_38_linuxcpuextensionbuilder/temp.linux-x86_64-3.8/usr/local/lib/python3.8\n",
      "creating /usr/local/lib/python3.8/dist-packages/mujoco_py/generated/_pyxbld_2.0.2.13_38_linuxcpuextensionbuilder/temp.linux-x86_64-3.8/usr/local/lib/python3.8/dist-packages\n",
      "creating /usr/local/lib/python3.8/dist-packages/mujoco_py/generated/_pyxbld_2.0.2.13_38_linuxcpuextensionbuilder/temp.linux-x86_64-3.8/usr/local/lib/python3.8/dist-packages/mujoco_py\n",
      "creating /usr/local/lib/python3.8/dist-packages/mujoco_py/generated/_pyxbld_2.0.2.13_38_linuxcpuextensionbuilder/temp.linux-x86_64-3.8/usr/local/lib/python3.8/dist-packages/mujoco_py/gl\n",
      "x86_64-linux-gnu-gcc -pthread -Wno-unused-result -Wsign-compare -DNDEBUG -g -fwrapv -O2 -Wall -g -fstack-protector-strong -Wformat -Werror=format-security -g -fwrapv -O2 -g -fstack-protector-strong -Wformat -Werror=format-security -Wdate-time -D_FORTIFY_SOURCE=2 -fPIC -I/usr/local/lib/python3.8/dist-packages/mujoco_py -I/usr/local/lib/python3.8/dist-packages/mujoco_py/binaries/linux/mujoco210/include -I/usr/local/lib/python3.8/dist-packages/numpy/core/include -I/usr/include/python3.8 -c /usr/local/lib/python3.8/dist-packages/mujoco_py/cymj.c -o /usr/local/lib/python3.8/dist-packages/mujoco_py/generated/_pyxbld_2.0.2.13_38_linuxcpuextensionbuilder/temp.linux-x86_64-3.8/usr/local/lib/python3.8/dist-packages/mujoco_py/cymj.o -fopenmp -w\n",
      "x86_64-linux-gnu-gcc -pthread -Wno-unused-result -Wsign-compare -DNDEBUG -g -fwrapv -O2 -Wall -g -fstack-protector-strong -Wformat -Werror=format-security -g -fwrapv -O2 -g -fstack-protector-strong -Wformat -Werror=format-security -Wdate-time -D_FORTIFY_SOURCE=2 -fPIC -I/usr/local/lib/python3.8/dist-packages/mujoco_py -I/usr/local/lib/python3.8/dist-packages/mujoco_py/binaries/linux/mujoco210/include -I/usr/local/lib/python3.8/dist-packages/numpy/core/include -I/usr/include/python3.8 -c /usr/local/lib/python3.8/dist-packages/mujoco_py/gl/osmesashim.c -o /usr/local/lib/python3.8/dist-packages/mujoco_py/generated/_pyxbld_2.0.2.13_38_linuxcpuextensionbuilder/temp.linux-x86_64-3.8/usr/local/lib/python3.8/dist-packages/mujoco_py/gl/osmesashim.o -fopenmp -w\n",
      "creating /usr/local/lib/python3.8/dist-packages/mujoco_py/generated/_pyxbld_2.0.2.13_38_linuxcpuextensionbuilder/lib.linux-x86_64-3.8\n",
      "creating /usr/local/lib/python3.8/dist-packages/mujoco_py/generated/_pyxbld_2.0.2.13_38_linuxcpuextensionbuilder/lib.linux-x86_64-3.8/mujoco_py\n",
      "x86_64-linux-gnu-gcc -pthread -shared -Wl,-O1 -Wl,-Bsymbolic-functions -Wl,-Bsymbolic-functions -Wl,-z,relro -g -fwrapv -O2 -Wl,-Bsymbolic-functions -Wl,-z,relro -g -fwrapv -O2 -g -fstack-protector-strong -Wformat -Werror=format-security -Wdate-time -D_FORTIFY_SOURCE=2 /usr/local/lib/python3.8/dist-packages/mujoco_py/generated/_pyxbld_2.0.2.13_38_linuxcpuextensionbuilder/temp.linux-x86_64-3.8/usr/local/lib/python3.8/dist-packages/mujoco_py/cymj.o /usr/local/lib/python3.8/dist-packages/mujoco_py/generated/_pyxbld_2.0.2.13_38_linuxcpuextensionbuilder/temp.linux-x86_64-3.8/usr/local/lib/python3.8/dist-packages/mujoco_py/gl/osmesashim.o -L/usr/local/lib/python3.8/dist-packages/mujoco_py/binaries/linux/mujoco210/bin -Wl,--enable-new-dtags,-R/usr/local/lib/python3.8/dist-packages/mujoco_py/binaries/linux/mujoco210/bin -lmujoco210 -lglewosmesa -lOSMesa -lGL -o /usr/local/lib/python3.8/dist-packages/mujoco_py/generated/_pyxbld_2.0.2.13_38_linuxcpuextensionbuilder/lib.linux-x86_64-3.8/mujoco_py/cymj.cpython-38-x86_64-linux-gnu.so -fopenmp\n"
     ]
    }
   ],
   "source": [
    "import mujoco_py"
   ]
  },
  {
   "cell_type": "code",
   "execution_count": null,
   "metadata": {
    "colab": {
     "background_save": true,
     "base_uri": "https://localhost:8080/"
    },
    "id": "Jtbz6g5yj3FL"
   },
   "outputs": [
    {
     "name": "stdout",
     "output_type": "stream",
     "text": [
      "2023-02-12 16:09:48.893856: W tensorflow/compiler/xla/stream_executor/platform/default/dso_loader.cc:64] Could not load dynamic library 'libnvinfer.so.7'; dlerror: libnvinfer.so.7: cannot open shared object file: No such file or directory; LD_LIBRARY_PATH: /usr/local/lib/python3.8/dist-packages/mujoco_py/binaries/linux/mujoco210/bin\n",
      "2023-02-12 16:09:48.894036: W tensorflow/compiler/xla/stream_executor/platform/default/dso_loader.cc:64] Could not load dynamic library 'libnvinfer_plugin.so.7'; dlerror: libnvinfer_plugin.so.7: cannot open shared object file: No such file or directory; LD_LIBRARY_PATH: /usr/local/lib/python3.8/dist-packages/mujoco_py/binaries/linux/mujoco210/bin\n",
      "2023-02-12 16:09:48.894066: W tensorflow/compiler/tf2tensorrt/utils/py_utils.cc:38] TF-TRT Warning: Cannot dlopen some TensorRT libraries. If you would like to use Nvidia GPU with TensorRT, please make sure the missing libraries mentioned above are installed properly.\n",
      "Observations shape: {'observation': (10,), 'achieved_goal': (3,), 'desired_goal': (3,)}\n",
      "Actions shape: (4,)\n",
      "Action range: -1.0 1.0\n",
      "Epoch #1: 5001it [23:28,  3.55it/s, env_step=5000, len=50, loss/actor=-0.589, loss/critics=0.278, n/ep=1, n/st=1, rew=-3.00]\n",
      "Epoch #1: test_reward: -1.800000 ± 1.166190, best_reward: -1.800000 ± 1.166190 in #1\n",
      "Epoch #2: 5001it [24:25,  3.41it/s, env_step=10000, len=50, loss/actor=-3.472, loss/critics=0.520, n/ep=1, n/st=1, rew=-4.00]\n",
      "Epoch #2: test_reward: -2.600000 ± 0.916515, best_reward: -1.800000 ± 1.166190 in #1\n",
      "Epoch #3: 5001it [23:07,  3.60it/s, env_step=15000, len=50, loss/actor=-4.969, loss/critics=0.835, n/ep=1, n/st=1, rew=-3.00]\n",
      "Epoch #3: test_reward: -2.200000 ± 0.871780, best_reward: -1.800000 ± 1.166190 in #1\n",
      "Epoch #4: 5001it [24:12,  3.44it/s, env_step=20000, len=50, loss/actor=-5.787, loss/critics=0.900, n/ep=1, n/st=1, rew=-7.00]\n",
      "Epoch #4: test_reward: -1.700000 ± 1.004988, best_reward: -1.700000 ± 1.004988 in #4\n",
      "Epoch #5: 5001it [24:17,  3.43it/s, env_step=25000, len=50, loss/actor=-6.309, loss/critics=1.117, n/ep=1, n/st=1, rew=-4.00]\n",
      "Epoch #5: test_reward: -2.200000 ± 0.979796, best_reward: -1.700000 ± 1.004988 in #4\n",
      "Epoch #6: 5001it [24:38,  3.38it/s, env_step=30000, len=50, loss/actor=-6.645, loss/critics=1.120, n/ep=1, n/st=1, rew=-9.00]\n",
      "Epoch #6: test_reward: -2.000000 ± 1.000000, best_reward: -1.700000 ± 1.004988 in #4\n",
      "Epoch #7: 5001it [25:02,  3.33it/s, env_step=35000, len=50, loss/actor=-6.964, loss/critics=1.177, n/ep=1, n/st=1, rew=-1.00]\n",
      "Epoch #7: test_reward: -2.200000 ± 0.748331, best_reward: -1.700000 ± 1.004988 in #4\n",
      "Epoch #8: 5001it [24:39,  3.38it/s, env_step=40000, len=50, loss/actor=-7.192, loss/critics=1.232, n/ep=1, n/st=1, rew=-13.00]\n",
      "Epoch #8: test_reward: -2.500000 ± 1.204159, best_reward: -1.700000 ± 1.004988 in #4\n",
      "Epoch #9: 5001it [24:48,  3.36it/s, env_step=45000, len=50, loss/actor=-7.320, loss/critics=1.267, n/ep=1, n/st=1, rew=-8.00]\n",
      "Epoch #9: test_reward: -2.100000 ± 1.044031, best_reward: -1.700000 ± 1.004988 in #4\n",
      "Epoch #10: 5001it [25:09,  3.31it/s, env_step=50000, len=50, loss/actor=-7.551, loss/critics=1.309, n/ep=1, n/st=1, rew=-8.00]\n",
      "Epoch #10: test_reward: -2.500000 ± 0.500000, best_reward: -1.700000 ± 1.004988 in #4\n",
      "{'best_result': '-1.70 ± 1.00',\n",
      " 'best_reward': -1.7,\n",
      " 'duration': '14651.73s',\n",
      " 'test_episode': 110,\n",
      " 'test_speed': '251.17 step/s',\n",
      " 'test_step': 5500,\n",
      " 'test_time': '21.90s',\n",
      " 'train_episode': 1000,\n",
      " 'train_speed': '3.42 step/s',\n",
      " 'train_step': 50000,\n",
      " 'train_time/collector': '851.97s',\n",
      " 'train_time/model': '13777.86s'}\n",
      "Final reward: -2.4, length: 50.0\n"
     ]
    }
   ],
   "source": [
    "!python fetch_her_redq.py --task FetchReach-v3 \\\n",
    "      --hidden-sizes 256 256 --actor-lr 1e-3 --critic-lr 3e-3 \\\n",
    "      --gamma 0.99 --epoch 10 --step-per-epoch 5000"
   ]
  }
 ],
 "metadata": {
  "colab": {
   "authorship_tag": "ABX9TyN2gbm/RYw6M5xaeOTUEOB3",
   "name": "",
   "version": ""
  },
  "kernelspec": {
   "display_name": "Python 3",
   "name": "python3"
  },
  "language_info": {
   "name": "python"
  }
 },
 "nbformat": 4,
 "nbformat_minor": 0
}
