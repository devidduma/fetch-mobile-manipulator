{
 "nbformat": 4,
 "nbformat_minor": 0,
 "metadata": {
  "colab": {
   "provenance": [],
   "authorship_tag": "ABX9TyNGcDCTrT9krtmsnNvvvokX"
  },
  "kernelspec": {
   "name": "python3",
   "display_name": "Python 3"
  },
  "language_info": {
   "name": "python"
  }
 },
 "cells": [
  {
   "cell_type": "code",
   "execution_count": 1,
   "metadata": {
    "colab": {
     "base_uri": "https://localhost:8080/"
    },
    "id": "IO0ADjYzh7T1",
    "executionInfo": {
     "status": "ok",
     "timestamp": 1676217973969,
     "user_tz": -60,
     "elapsed": 2474,
     "user": {
      "displayName": "Devid Duma",
      "userId": "13827092886051082382"
     }
    },
    "outputId": "28ab3eeb-837b-4e5e-9c01-fe77c7a1b2ba"
   },
   "outputs": [
    {
     "output_type": "stream",
     "name": "stdout",
     "text": [
      "\u001B[31mERROR: Could not open requirements file: [Errno 2] No such file or directory: 'requirements.txt'\u001B[0m\u001B[31m\n",
      "\u001B[0m"
     ]
    }
   ],
   "source": [
    "!pip install -r requirements.txt --quiet"
   ]
  },
  {
   "cell_type": "code",
   "source": [
    "!pip install git+https://github.com/Markus28/tianshou.git@gymnasium_integration#egg=tianshou --quiet"
   ],
   "metadata": {
    "colab": {
     "base_uri": "https://localhost:8080/"
    },
    "id": "wfuzeq7BitX9",
    "executionInfo": {
     "status": "ok",
     "timestamp": 1676217982305,
     "user_tz": -60,
     "elapsed": 8341,
     "user": {
      "displayName": "Devid Duma",
      "userId": "13827092886051082382"
     }
    },
    "outputId": "2bcad12b-a1da-4fd0-c9ec-12364bfef16f"
   },
   "execution_count": 2,
   "outputs": [
    {
     "output_type": "stream",
     "name": "stdout",
     "text": [
      "  Preparing metadata (setup.py) ... \u001B[?25l\u001B[?25hdone\n"
     ]
    }
   ]
  },
  {
   "cell_type": "code",
   "source": [
    "!apt-get -q install -y \\\n",
    "    libgl1-mesa-dev \\\n",
    "    libgl1-mesa-glx \\\n",
    "    libglew-dev \\\n",
    "    libosmesa6-dev \\\n",
    "    software-properties-common\n",
    "\n",
    "!apt-get -q install -y patchelf"
   ],
   "metadata": {
    "colab": {
     "base_uri": "https://localhost:8080/"
    },
    "id": "UyOq9We-I6ay",
    "executionInfo": {
     "status": "ok",
     "timestamp": 1676217988103,
     "user_tz": -60,
     "elapsed": 5812,
     "user": {
      "displayName": "Devid Duma",
      "userId": "13827092886051082382"
     }
    },
    "outputId": "8061d5a8-e3e3-4dea-ff98-be4dcc31d2b2"
   },
   "execution_count": 3,
   "outputs": [
    {
     "output_type": "stream",
     "name": "stdout",
     "text": [
      "Reading package lists...\n",
      "Building dependency tree...\n",
      "Reading state information...\n",
      "libglew-dev is already the newest version (2.1.0-4).\n",
      "libgl1-mesa-dev is already the newest version (21.2.6-0ubuntu0.1~20.04.2).\n",
      "libgl1-mesa-glx is already the newest version (21.2.6-0ubuntu0.1~20.04.2).\n",
      "libosmesa6-dev is already the newest version (21.2.6-0ubuntu0.1~20.04.2).\n",
      "software-properties-common is already the newest version (0.99.9.10).\n",
      "The following package was automatically installed and is no longer required:\n",
      "  libnvidia-common-510\n",
      "Use 'apt autoremove' to remove it.\n",
      "0 upgraded, 0 newly installed, 0 to remove and 21 not upgraded.\n",
      "Reading package lists...\n",
      "Building dependency tree...\n",
      "Reading state information...\n",
      "patchelf is already the newest version (0.10-2build1).\n",
      "The following package was automatically installed and is no longer required:\n",
      "  libnvidia-common-510\n",
      "Use 'apt autoremove' to remove it.\n",
      "0 upgraded, 0 newly installed, 0 to remove and 21 not upgraded.\n"
     ]
    }
   ]
  },
  {
   "cell_type": "code",
   "source": [
    "!pip install envpool wandb pettingzoo gymnasium-robotics --quiet"
   ],
   "metadata": {
    "id": "UbOlVWv0157i",
    "executionInfo": {
     "status": "ok",
     "timestamp": 1676217991846,
     "user_tz": -60,
     "elapsed": 3767,
     "user": {
      "displayName": "Devid Duma",
      "userId": "13827092886051082382"
     }
    }
   },
   "execution_count": 4,
   "outputs": []
  },
  {
   "cell_type": "code",
   "source": [
    "!pip install free-mujoco-py --quiet"
   ],
   "metadata": {
    "id": "fCkkosakI_bC",
    "executionInfo": {
     "status": "ok",
     "timestamp": 1676217996467,
     "user_tz": -60,
     "elapsed": 4627,
     "user": {
      "displayName": "Devid Duma",
      "userId": "13827092886051082382"
     }
    }
   },
   "execution_count": 5,
   "outputs": []
  },
  {
   "cell_type": "code",
   "source": [
    "import mujoco_py"
   ],
   "metadata": {
    "id": "7TZHDrP1JTUj",
    "executionInfo": {
     "status": "ok",
     "timestamp": 1676217996963,
     "user_tz": -60,
     "elapsed": 502,
     "user": {
      "displayName": "Devid Duma",
      "userId": "13827092886051082382"
     }
    }
   },
   "execution_count": 6,
   "outputs": []
  },
  {
   "cell_type": "code",
   "source": [
    "!python fetch_her_ddpg.py --task FetchReach-v3 \\\n",
    "      --hidden-sizes 256 256 --actor-lr 1e-3 --critic-lr 3e-3 \\\n",
    "      --gamma 0.99 --epoch 10 --step-per-epoch 5000"
   ],
   "metadata": {
    "colab": {
     "base_uri": "https://localhost:8080/"
    },
    "id": "Jtbz6g5yj3FL",
    "executionInfo": {
     "status": "ok",
     "timestamp": 1676222390946,
     "user_tz": -60,
     "elapsed": 127113,
     "user": {
      "displayName": "Devid Duma",
      "userId": "13827092886051082382"
     }
    },
    "outputId": "8bc9f8e8-d1a3-4d32-8d1d-442791ec7b2a"
   },
   "execution_count": 7,
   "outputs": [
    {
     "output_type": "stream",
     "name": "stdout",
     "text": [
      "2023-02-12 16:06:42.024510: W tensorflow/compiler/xla/stream_executor/platform/default/dso_loader.cc:64] Could not load dynamic library 'libnvinfer.so.7'; dlerror: libnvinfer.so.7: cannot open shared object file: No such file or directory; LD_LIBRARY_PATH: /usr/local/lib/python3.8/dist-packages/mujoco_py/binaries/linux/mujoco210/bin\n",
      "2023-02-12 16:06:42.024653: W tensorflow/compiler/xla/stream_executor/platform/default/dso_loader.cc:64] Could not load dynamic library 'libnvinfer_plugin.so.7'; dlerror: libnvinfer_plugin.so.7: cannot open shared object file: No such file or directory; LD_LIBRARY_PATH: /usr/local/lib/python3.8/dist-packages/mujoco_py/binaries/linux/mujoco210/bin\n",
      "2023-02-12 16:06:42.024677: W tensorflow/compiler/tf2tensorrt/utils/py_utils.cc:38] TF-TRT Warning: Cannot dlopen some TensorRT libraries. If you would like to use Nvidia GPU with TensorRT, please make sure the missing libraries mentioned above are installed properly.\n",
      "Observations shape: {'observation': (10,), 'achieved_goal': (3,), 'desired_goal': (3,)}\n",
      "Actions shape: (4,)\n",
      "Action range: -1.0 1.0\n",
      "Epoch #1: 5001it [06:14, 13.35it/s, env_step=5000, len=50, loss/actor=3.196, loss/critic=0.278, n/ep=1, n/st=1, rew=-2.00]\n",
      "Epoch #1: test_reward: -1.600000 ± 0.916515, best_reward: -1.600000 ± 0.916515 in #1\n",
      "Epoch #2: 5001it [06:38, 12.55it/s, env_step=10000, len=50, loss/actor=-0.598, loss/critic=0.145, n/ep=1, n/st=1, rew=-2.00]              \n",
      "Epoch #2: test_reward: -1.800000 ± 0.748331, best_reward: -1.600000 ± 0.916515 in #1\n",
      "Epoch #3: 5001it [06:54, 12.05it/s, env_step=15000, len=50, loss/actor=-0.276, loss/critic=0.094, n/ep=1, n/st=1, rew=-3.00]\n",
      "Epoch #3: test_reward: -1.600000 ± 0.916515, best_reward: -1.600000 ± 0.916515 in #1\n",
      "Epoch #4: 5001it [07:04, 11.77it/s, env_step=20000, len=50, loss/actor=-0.162, loss/critic=0.074, n/ep=1, n/st=1, rew=0.00]              \n",
      "Epoch #4: test_reward: -1.500000 ± 1.024695, best_reward: -1.500000 ± 1.024695 in #4\n",
      "Epoch #5: 5001it [07:09, 11.65it/s, env_step=25000, len=50, loss/actor=-0.210, loss/critic=0.075, n/ep=1, n/st=1, rew=-4.00]\n",
      "Epoch #5: test_reward: -1.900000 ± 0.538516, best_reward: -1.500000 ± 1.024695 in #4\n",
      "Epoch #6: 5001it [07:14, 11.50it/s, env_step=30000, len=50, loss/actor=-0.263, loss/critic=0.068, n/ep=1, n/st=1, rew=-2.00]\n",
      "Epoch #6: test_reward: -1.200000 ± 0.979796, best_reward: -1.200000 ± 0.979796 in #6\n",
      "Epoch #7: 5001it [07:23, 11.27it/s, env_step=35000, len=50, loss/actor=-0.147, loss/critic=0.058, n/ep=1, n/st=1, rew=-3.00]\n",
      "Epoch #7: test_reward: -1.800000 ± 0.600000, best_reward: -1.200000 ± 0.979796 in #6\n",
      "Epoch #8: 5001it [07:24, 11.26it/s, env_step=40000, len=50, loss/actor=0.016, loss/critic=0.048, n/ep=1, n/st=1, rew=-1.00]              \n",
      "Epoch #8: test_reward: -1.200000 ± 0.871780, best_reward: -1.200000 ± 0.979796 in #6\n",
      "Epoch #9: 5001it [07:21, 11.33it/s, env_step=45000, len=50, loss/actor=0.032, loss/critic=0.046, n/ep=1, n/st=1, rew=-2.00]\n",
      "Epoch #9: test_reward: -1.900000 ± 0.700000, best_reward: -1.200000 ± 0.979796 in #6\n",
      "Epoch #10: 5001it [07:18, 11.40it/s, env_step=50000, len=50, loss/actor=0.066, loss/critic=0.037, n/ep=1, n/st=1, rew=-2.00]\n",
      "Epoch #10: test_reward: -1.500000 ± 0.921954, best_reward: -1.200000 ± 0.979796 in #6\n",
      "{'best_result': '-1.20 ± 0.98',\n",
      " 'best_reward': -1.2,\n",
      " 'duration': '4264.65s',\n",
      " 'test_episode': 110,\n",
      " 'test_speed': '288.84 step/s',\n",
      " 'test_step': 5500,\n",
      " 'test_time': '19.04s',\n",
      " 'train_episode': 1000,\n",
      " 'train_speed': '11.78 step/s',\n",
      " 'train_step': 50000,\n",
      " 'train_time/collector': '616.78s',\n",
      " 'train_time/model': '3628.83s'}\n",
      "Final reward: -2.1, length: 50.0\n"
     ]
    }
   ]
  }
 ]
}
