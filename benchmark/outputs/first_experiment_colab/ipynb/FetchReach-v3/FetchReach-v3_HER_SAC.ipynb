{
 "cells": [
  {
   "cell_type": "code",
   "execution_count": 1,
   "metadata": {
    "colab": {
     "base_uri": "https://localhost:8080/"
    },
    "id": "IO0ADjYzh7T1",
    "outputId": "59a3d161-6536-41f5-ef0c-c0d44170060d"
   },
   "outputs": [
    {
     "output_type": "stream",
     "name": "stdout",
     "text": [
      "\u001B[31mERROR: Could not open requirements file: [Errno 2] No such file or directory: 'requirements.txt'\u001B[0m\u001B[31m\n",
      "\u001B[0m"
     ]
    }
   ],
   "source": [
    "!pip install -r requirements.txt --quiet"
   ]
  },
  {
   "cell_type": "code",
   "execution_count": 2,
   "metadata": {
    "colab": {
     "base_uri": "https://localhost:8080/"
    },
    "id": "wfuzeq7BitX9",
    "outputId": "95396b14-35f7-4aba-8a1c-214325122af0"
   },
   "outputs": [
    {
     "output_type": "stream",
     "name": "stdout",
     "text": [
      "  Preparing metadata (setup.py) ... \u001B[?25l\u001B[?25hdone\n"
     ]
    }
   ],
   "source": [
    "!pip install git+https://github.com/Markus28/tianshou.git@gymnasium_integration#egg=tianshou --quiet"
   ]
  },
  {
   "cell_type": "code",
   "execution_count": 3,
   "metadata": {
    "id": "UyOq9We-I6ay",
    "colab": {
     "base_uri": "https://localhost:8080/"
    },
    "outputId": "8c3c7b4e-eab7-4893-8b7a-adf78a442ace"
   },
   "outputs": [
    {
     "output_type": "stream",
     "name": "stdout",
     "text": [
      "Reading package lists...\n",
      "Building dependency tree...\n",
      "Reading state information...\n",
      "libglew-dev is already the newest version (2.1.0-4).\n",
      "libgl1-mesa-dev is already the newest version (21.2.6-0ubuntu0.1~20.04.2).\n",
      "libgl1-mesa-glx is already the newest version (21.2.6-0ubuntu0.1~20.04.2).\n",
      "libosmesa6-dev is already the newest version (21.2.6-0ubuntu0.1~20.04.2).\n",
      "software-properties-common is already the newest version (0.99.9.10).\n",
      "0 upgraded, 0 newly installed, 0 to remove and 19 not upgraded.\n",
      "Reading package lists...\n",
      "Building dependency tree...\n",
      "Reading state information...\n",
      "patchelf is already the newest version (0.10-2build1).\n",
      "0 upgraded, 0 newly installed, 0 to remove and 19 not upgraded.\n"
     ]
    }
   ],
   "source": [
    "!apt-get -q install -y \\\n",
    "    libgl1-mesa-dev \\\n",
    "    libgl1-mesa-glx \\\n",
    "    libglew-dev \\\n",
    "    libosmesa6-dev \\\n",
    "    software-properties-common\n",
    "\n",
    "!apt-get -q install -y patchelf"
   ]
  },
  {
   "cell_type": "code",
   "execution_count": 4,
   "metadata": {
    "id": "UbOlVWv0157i"
   },
   "outputs": [],
   "source": [
    "!pip install envpool wandb pettingzoo gymnasium-robotics --quiet"
   ]
  },
  {
   "cell_type": "code",
   "execution_count": 5,
   "metadata": {
    "id": "fCkkosakI_bC"
   },
   "outputs": [],
   "source": [
    "!pip install free-mujoco-py --quiet"
   ]
  },
  {
   "cell_type": "code",
   "execution_count": 6,
   "metadata": {
    "id": "7TZHDrP1JTUj"
   },
   "outputs": [],
   "source": [
    "import mujoco_py"
   ]
  },
  {
   "cell_type": "code",
   "execution_count": 7,
   "metadata": {
    "colab": {
     "base_uri": "https://localhost:8080/"
    },
    "id": "Jtbz6g5yj3FL",
    "outputId": "0dc5c853-b9ab-4a87-8f5c-93435440adfc"
   },
   "outputs": [
    {
     "output_type": "stream",
     "name": "stdout",
     "text": [
      "2023-02-28 15:24:05.311423: W tensorflow/compiler/xla/stream_executor/platform/default/dso_loader.cc:64] Could not load dynamic library 'libnvinfer.so.7'; dlerror: libnvinfer.so.7: cannot open shared object file: No such file or directory; LD_LIBRARY_PATH: /usr/local/lib/python3.8/dist-packages/mujoco_py/binaries/linux/mujoco210/bin\n",
      "2023-02-28 15:24:05.311687: W tensorflow/compiler/xla/stream_executor/platform/default/dso_loader.cc:64] Could not load dynamic library 'libnvinfer_plugin.so.7'; dlerror: libnvinfer_plugin.so.7: cannot open shared object file: No such file or directory; LD_LIBRARY_PATH: /usr/local/lib/python3.8/dist-packages/mujoco_py/binaries/linux/mujoco210/bin\n",
      "2023-02-28 15:24:05.311713: W tensorflow/compiler/tf2tensorrt/utils/py_utils.cc:38] TF-TRT Warning: Cannot dlopen some TensorRT libraries. If you would like to use Nvidia GPU with TensorRT, please make sure the missing libraries mentioned above are installed properly.\n",
      "Observations shape: {'observation': (10,), 'achieved_goal': (3,), 'desired_goal': (3,)}\n",
      "Actions shape: (4,)\n",
      "Action range: -1.0 1.0\n",
      "Epoch #1: 5001it [08:01, 10.38it/s, env_step=5000, len=50, loss/actor=-0.874, loss/critic1=0.274, loss/critic2=0.315, n/ep=1, n/st=1, rew=-4.00]\n",
      "Epoch #1: test_reward: -2.500000 ± 0.921954, best_reward: -2.500000 ± 0.921954 in #1\n",
      "Epoch #2: 5001it [08:14, 10.11it/s, env_step=10000, len=50, loss/actor=-3.540, loss/critic1=0.520, loss/critic2=0.538, n/ep=1, n/st=1, rew=-7.00]\n",
      "Epoch #2: test_reward: -1.800000 ± 0.871780, best_reward: -1.800000 ± 0.871780 in #2\n",
      "Epoch #3: 5001it [08:29,  9.82it/s, env_step=15000, len=50, loss/actor=-5.214, loss/critic1=0.836, loss/critic2=0.841, n/ep=1, n/st=1, rew=-3.00]              \n",
      "Epoch #3: test_reward: -1.900000 ± 0.943398, best_reward: -1.800000 ± 0.871780 in #2\n",
      "Epoch #4: 5001it [08:36,  9.69it/s, env_step=20000, len=50, loss/actor=-6.322, loss/critic1=1.051, loss/critic2=1.053, n/ep=1, n/st=1, rew=-5.00]\n",
      "Epoch #4: test_reward: -2.300000 ± 1.417745, best_reward: -1.800000 ± 0.871780 in #2\n",
      "Epoch #5: 5001it [08:41,  9.59it/s, env_step=25000, len=50, loss/actor=-6.917, loss/critic1=1.274, loss/critic2=1.279, n/ep=1, n/st=1, rew=-3.00]              \n",
      "Epoch #5: test_reward: -2.500000 ± 0.921954, best_reward: -1.800000 ± 0.871780 in #2\n",
      "Epoch #6: 5001it [08:47,  9.48it/s, env_step=30000, len=50, loss/actor=-7.368, loss/critic1=1.373, loss/critic2=1.388, n/ep=1, n/st=1, rew=-2.00]              \n",
      "Epoch #6: test_reward: -2.000000 ± 1.000000, best_reward: -1.800000 ± 0.871780 in #2\n",
      "Epoch #7: 5001it [08:51,  9.41it/s, env_step=35000, len=50, loss/actor=-7.730, loss/critic1=1.536, loss/critic2=1.542, n/ep=1, n/st=1, rew=-6.00]\n",
      "Epoch #7: test_reward: -2.600000 ± 0.800000, best_reward: -1.800000 ± 0.871780 in #2\n",
      "Epoch #8: 5001it [08:55,  9.34it/s, env_step=40000, len=50, loss/actor=-8.048, loss/critic1=1.509, loss/critic2=1.510, n/ep=1, n/st=1, rew=-5.00]              \n",
      "Epoch #8: test_reward: -1.900000 ± 0.943398, best_reward: -1.800000 ± 0.871780 in #2\n",
      "Epoch #9: 5001it [09:03,  9.20it/s, env_step=45000, len=50, loss/actor=-8.226, loss/critic1=1.602, loss/critic2=1.603, n/ep=1, n/st=1, rew=-5.00]\n",
      "Epoch #9: test_reward: -2.100000 ± 0.943398, best_reward: -1.800000 ± 0.871780 in #2\n",
      "Epoch #10: 5001it [09:10,  9.08it/s, env_step=50000, len=50, loss/actor=-8.423, loss/critic1=1.630, loss/critic2=1.630, n/ep=1, n/st=1, rew=-4.00]              \n",
      "Epoch #10: test_reward: -1.700000 ± 1.268858, best_reward: -1.700000 ± 1.268858 in #10\n",
      "{'best_result': '-1.70 ± 1.27',\n",
      " 'best_reward': -1.7,\n",
      " 'duration': '5231.73s',\n",
      " 'test_episode': 110,\n",
      " 'test_speed': '279.89 step/s',\n",
      " 'test_step': 5500,\n",
      " 'test_time': '19.65s',\n",
      " 'train_episode': 1000,\n",
      " 'train_speed': '9.59 step/s',\n",
      " 'train_step': 50000,\n",
      " 'train_time/collector': '637.40s',\n",
      " 'train_time/model': '4574.67s'}\n",
      "Final reward: -2.5, length: 50.0\n"
     ]
    }
   ],
   "source": [
    "!python fetch_her_sac.py --task FetchReach-v3 \\\n",
    "      --hidden-sizes 256 256 --actor-lr 1e-3 --critic-lr 3e-3 \\\n",
    "      --gamma 0.99 --epoch 10 --step-per-epoch 5000"
   ]
  }
 ],
 "metadata": {
  "colab": {
   "provenance": []
  },
  "kernelspec": {
   "display_name": "Python 3",
   "name": "python3"
  },
  "language_info": {
   "name": "python"
  }
 },
 "nbformat": 4,
 "nbformat_minor": 0
}
